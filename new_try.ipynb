{
 "cells": [
  {
   "cell_type": "code",
   "execution_count": 1,
   "metadata": {},
   "outputs": [],
   "source": [
    "import pandas as pd\n",
    "import numpy as np"
   ]
  },
  {
   "cell_type": "code",
   "execution_count": 2,
   "metadata": {},
   "outputs": [],
   "source": [
    "import seaborn as sns\n",
    "from matplotlib import pyplot\n",
    "    \n",
    "def plot_acc(history):\n",
    "    sns.set()\n",
    "\n",
    "    fig = pyplot.figure(0, (12, 4))\n",
    "\n",
    "    ax = pyplot.subplot(1, 2, 1)\n",
    "    sns.lineplot(x=history.epoch, y=history.history['accuracy'], label='train')\n",
    "    sns.lineplot(x=history.epoch, y=history.history['val_accuracy'], label='valid')\n",
    "    pyplot.title('Accuracy')\n",
    "    pyplot.tight_layout()\n",
    "\n",
    "    ax = pyplot.subplot(1, 2, 2)\n",
    "    sns.lineplot(x=history.epoch, y=history.history['loss'], label='train')\n",
    "    sns.lineplot(x=history.epoch, y=history.history['val_loss'], label='valid')\n",
    "    pyplot.title('Loss')\n",
    "    pyplot.tight_layout()\n",
    "\n",
    "    pyplot.show()"
   ]
  },
  {
   "cell_type": "code",
   "execution_count": 3,
   "metadata": {},
   "outputs": [],
   "source": [
    "data = pd.read_csv('Darknet.csv')"
   ]
  },
  {
   "cell_type": "code",
   "execution_count": 4,
   "metadata": {},
   "outputs": [],
   "source": [
    "no_tor = data.loc[data['Label'] == 'Non-Tor']\n",
    "tor = data.loc[data['Label'] == 'Tor']\n",
    "no_vpn = data.loc[data['Label'] == 'NonVPN']\n",
    "vpn = data.loc[data['Label'] == 'VPN']"
   ]
  },
  {
   "cell_type": "code",
   "execution_count": 5,
   "metadata": {},
   "outputs": [],
   "source": [
    "no_tor = no_tor[:10000]\n",
    "no_vpn = no_vpn[:10000]\n",
    "vpn = vpn[:10000]"
   ]
  },
  {
   "cell_type": "code",
   "execution_count": 6,
   "metadata": {},
   "outputs": [],
   "source": [
    "pdlist = [no_tor, tor, no_vpn, vpn]"
   ]
  },
  {
   "cell_type": "code",
   "execution_count": 7,
   "metadata": {},
   "outputs": [],
   "source": [
    "new_data = pd.concat(pdlist)"
   ]
  },
  {
   "cell_type": "code",
   "execution_count": 8,
   "metadata": {},
   "outputs": [
    {
     "data": {
      "text/html": [
       "<div>\n",
       "<style scoped>\n",
       "    .dataframe tbody tr th:only-of-type {\n",
       "        vertical-align: middle;\n",
       "    }\n",
       "\n",
       "    .dataframe tbody tr th {\n",
       "        vertical-align: top;\n",
       "    }\n",
       "\n",
       "    .dataframe thead th {\n",
       "        text-align: right;\n",
       "    }\n",
       "</style>\n",
       "<table border=\"1\" class=\"dataframe\">\n",
       "  <thead>\n",
       "    <tr style=\"text-align: right;\">\n",
       "      <th></th>\n",
       "      <th>Flow ID</th>\n",
       "      <th>Src IP</th>\n",
       "      <th>Src Port</th>\n",
       "      <th>Dst IP</th>\n",
       "      <th>Dst Port</th>\n",
       "      <th>Protocol</th>\n",
       "      <th>Timestamp</th>\n",
       "      <th>Flow Duration</th>\n",
       "      <th>Total Fwd Packet</th>\n",
       "      <th>Total Bwd packets</th>\n",
       "      <th>...</th>\n",
       "      <th>Active Mean</th>\n",
       "      <th>Active Std</th>\n",
       "      <th>Active Max</th>\n",
       "      <th>Active Min</th>\n",
       "      <th>Idle Mean</th>\n",
       "      <th>Idle Std</th>\n",
       "      <th>Idle Max</th>\n",
       "      <th>Idle Min</th>\n",
       "      <th>Label</th>\n",
       "      <th>Label.1</th>\n",
       "    </tr>\n",
       "  </thead>\n",
       "  <tbody>\n",
       "    <tr>\n",
       "      <th>0</th>\n",
       "      <td>10.152.152.11-216.58.220.99-57158-443-6</td>\n",
       "      <td>10.152.152.11</td>\n",
       "      <td>57158</td>\n",
       "      <td>216.58.220.99</td>\n",
       "      <td>443</td>\n",
       "      <td>6</td>\n",
       "      <td>24/07/2015 04:09:48 PM</td>\n",
       "      <td>229</td>\n",
       "      <td>1</td>\n",
       "      <td>1</td>\n",
       "      <td>...</td>\n",
       "      <td>0</td>\n",
       "      <td>0</td>\n",
       "      <td>0</td>\n",
       "      <td>0</td>\n",
       "      <td>0.000000e+00</td>\n",
       "      <td>0.000</td>\n",
       "      <td>0.000000e+00</td>\n",
       "      <td>0.000000e+00</td>\n",
       "      <td>Non-Tor</td>\n",
       "      <td>AUDIO-STREAMING</td>\n",
       "    </tr>\n",
       "    <tr>\n",
       "      <th>1</th>\n",
       "      <td>10.152.152.11-216.58.220.99-57159-443-6</td>\n",
       "      <td>10.152.152.11</td>\n",
       "      <td>57159</td>\n",
       "      <td>216.58.220.99</td>\n",
       "      <td>443</td>\n",
       "      <td>6</td>\n",
       "      <td>24/07/2015 04:09:48 PM</td>\n",
       "      <td>407</td>\n",
       "      <td>1</td>\n",
       "      <td>1</td>\n",
       "      <td>...</td>\n",
       "      <td>0</td>\n",
       "      <td>0</td>\n",
       "      <td>0</td>\n",
       "      <td>0</td>\n",
       "      <td>0.000000e+00</td>\n",
       "      <td>0.000</td>\n",
       "      <td>0.000000e+00</td>\n",
       "      <td>0.000000e+00</td>\n",
       "      <td>Non-Tor</td>\n",
       "      <td>AUDIO-STREAMING</td>\n",
       "    </tr>\n",
       "    <tr>\n",
       "      <th>2</th>\n",
       "      <td>10.152.152.11-216.58.220.99-57160-443-6</td>\n",
       "      <td>10.152.152.11</td>\n",
       "      <td>57160</td>\n",
       "      <td>216.58.220.99</td>\n",
       "      <td>443</td>\n",
       "      <td>6</td>\n",
       "      <td>24/07/2015 04:09:48 PM</td>\n",
       "      <td>431</td>\n",
       "      <td>1</td>\n",
       "      <td>1</td>\n",
       "      <td>...</td>\n",
       "      <td>0</td>\n",
       "      <td>0</td>\n",
       "      <td>0</td>\n",
       "      <td>0</td>\n",
       "      <td>0.000000e+00</td>\n",
       "      <td>0.000</td>\n",
       "      <td>0.000000e+00</td>\n",
       "      <td>0.000000e+00</td>\n",
       "      <td>Non-Tor</td>\n",
       "      <td>AUDIO-STREAMING</td>\n",
       "    </tr>\n",
       "    <tr>\n",
       "      <th>3</th>\n",
       "      <td>10.152.152.11-74.125.136.120-49134-443-6</td>\n",
       "      <td>10.152.152.11</td>\n",
       "      <td>49134</td>\n",
       "      <td>74.125.136.120</td>\n",
       "      <td>443</td>\n",
       "      <td>6</td>\n",
       "      <td>24/07/2015 04:09:48 PM</td>\n",
       "      <td>359</td>\n",
       "      <td>1</td>\n",
       "      <td>1</td>\n",
       "      <td>...</td>\n",
       "      <td>0</td>\n",
       "      <td>0</td>\n",
       "      <td>0</td>\n",
       "      <td>0</td>\n",
       "      <td>0.000000e+00</td>\n",
       "      <td>0.000</td>\n",
       "      <td>0.000000e+00</td>\n",
       "      <td>0.000000e+00</td>\n",
       "      <td>Non-Tor</td>\n",
       "      <td>AUDIO-STREAMING</td>\n",
       "    </tr>\n",
       "    <tr>\n",
       "      <th>4</th>\n",
       "      <td>10.152.152.11-173.194.65.127-34697-19305-6</td>\n",
       "      <td>10.152.152.11</td>\n",
       "      <td>34697</td>\n",
       "      <td>173.194.65.127</td>\n",
       "      <td>19305</td>\n",
       "      <td>6</td>\n",
       "      <td>24/07/2015 04:09:45 PM</td>\n",
       "      <td>10778451</td>\n",
       "      <td>591</td>\n",
       "      <td>400</td>\n",
       "      <td>...</td>\n",
       "      <td>0</td>\n",
       "      <td>0</td>\n",
       "      <td>0</td>\n",
       "      <td>0</td>\n",
       "      <td>1.437760e+15</td>\n",
       "      <td>3117718.131</td>\n",
       "      <td>1.437760e+15</td>\n",
       "      <td>1.437760e+15</td>\n",
       "      <td>Non-Tor</td>\n",
       "      <td>AUDIO-STREAMING</td>\n",
       "    </tr>\n",
       "  </tbody>\n",
       "</table>\n",
       "<p>5 rows × 85 columns</p>\n",
       "</div>"
      ],
      "text/plain": [
       "                                      Flow ID         Src IP  Src Port  \\\n",
       "0     10.152.152.11-216.58.220.99-57158-443-6  10.152.152.11     57158   \n",
       "1     10.152.152.11-216.58.220.99-57159-443-6  10.152.152.11     57159   \n",
       "2     10.152.152.11-216.58.220.99-57160-443-6  10.152.152.11     57160   \n",
       "3    10.152.152.11-74.125.136.120-49134-443-6  10.152.152.11     49134   \n",
       "4  10.152.152.11-173.194.65.127-34697-19305-6  10.152.152.11     34697   \n",
       "\n",
       "           Dst IP  Dst Port  Protocol               Timestamp  Flow Duration  \\\n",
       "0   216.58.220.99       443         6  24/07/2015 04:09:48 PM            229   \n",
       "1   216.58.220.99       443         6  24/07/2015 04:09:48 PM            407   \n",
       "2   216.58.220.99       443         6  24/07/2015 04:09:48 PM            431   \n",
       "3  74.125.136.120       443         6  24/07/2015 04:09:48 PM            359   \n",
       "4  173.194.65.127     19305         6  24/07/2015 04:09:45 PM       10778451   \n",
       "\n",
       "   Total Fwd Packet  Total Bwd packets  ...  Active Mean  Active Std  \\\n",
       "0                 1                  1  ...            0           0   \n",
       "1                 1                  1  ...            0           0   \n",
       "2                 1                  1  ...            0           0   \n",
       "3                 1                  1  ...            0           0   \n",
       "4               591                400  ...            0           0   \n",
       "\n",
       "   Active Max  Active Min     Idle Mean     Idle Std      Idle Max  \\\n",
       "0           0           0  0.000000e+00        0.000  0.000000e+00   \n",
       "1           0           0  0.000000e+00        0.000  0.000000e+00   \n",
       "2           0           0  0.000000e+00        0.000  0.000000e+00   \n",
       "3           0           0  0.000000e+00        0.000  0.000000e+00   \n",
       "4           0           0  1.437760e+15  3117718.131  1.437760e+15   \n",
       "\n",
       "       Idle Min    Label          Label.1  \n",
       "0  0.000000e+00  Non-Tor  AUDIO-STREAMING  \n",
       "1  0.000000e+00  Non-Tor  AUDIO-STREAMING  \n",
       "2  0.000000e+00  Non-Tor  AUDIO-STREAMING  \n",
       "3  0.000000e+00  Non-Tor  AUDIO-STREAMING  \n",
       "4  1.437760e+15  Non-Tor  AUDIO-STREAMING  \n",
       "\n",
       "[5 rows x 85 columns]"
      ]
     },
     "execution_count": 8,
     "metadata": {},
     "output_type": "execute_result"
    }
   ],
   "source": [
    "new_data.head()"
   ]
  },
  {
   "cell_type": "code",
   "execution_count": 9,
   "metadata": {},
   "outputs": [],
   "source": [
    "Y = new_data['Label']"
   ]
  },
  {
   "cell_type": "code",
   "execution_count": 10,
   "metadata": {},
   "outputs": [],
   "source": [
    "data = new_data[['Flow Duration',\n",
    " 'Bwd Packet Length Min',\n",
    " 'Fwd Header Length',\n",
    " 'Fwd Packets/s']]"
   ]
  },
  {
   "cell_type": "code",
   "execution_count": 11,
   "metadata": {},
   "outputs": [],
   "source": [
    "from sklearn.preprocessing import LabelEncoder\n",
    "\n",
    "le = LabelEncoder()\n",
    "Y = le.fit_transform(Y)"
   ]
  },
  {
   "cell_type": "code",
   "execution_count": 12,
   "metadata": {},
   "outputs": [],
   "source": [
    "from sklearn.model_selection import train_test_split"
   ]
  },
  {
   "cell_type": "code",
   "execution_count": 13,
   "metadata": {},
   "outputs": [],
   "source": [
    "X_train, X_test, y_train, y_test = train_test_split(data, Y, test_size=0.2, random_state= 42)"
   ]
  },
  {
   "cell_type": "code",
   "execution_count": 14,
   "metadata": {},
   "outputs": [],
   "source": [
    "import tensorflow as tf\n",
    "from tensorflow.keras.models import Sequential\n",
    "from tensorflow.keras.layers import Dense"
   ]
  },
  {
   "cell_type": "code",
   "execution_count": 15,
   "metadata": {},
   "outputs": [],
   "source": [
    "moodel = Sequential([\n",
    "    Dense(64, activation='relu', input_shape=(4,)),\n",
    "    Dense(128, activation='relu'),\n",
    "    Dense(64, activation='relu'),\n",
    "    Dense(4, activation='softmax')\n",
    "])"
   ]
  },
  {
   "cell_type": "code",
   "execution_count": 16,
   "metadata": {},
   "outputs": [],
   "source": [
    "class LossHistory(tf.keras.callbacks.Callback):\n",
    "    def on_train_begin(self, logs={}):\n",
    "        self.losses = []\n",
    "        self.val_losses = []\n",
    "\n",
    "    def on_epoch_end(self, epoch, logs={}):\n",
    "        self.losses.append(logs.get('loss'))\n",
    "        self.val_losses.append(logs.get('val_loss'))\n",
    "        np.savetxt('loss_history.txt', np.array([self.losses, self.val_losses]).T)\n",
    "\n",
    "# Instantiate the custom callback\n",
    "loss_history_callback = LossHistory()"
   ]
  },
  {
   "cell_type": "code",
   "execution_count": 17,
   "metadata": {},
   "outputs": [],
   "source": [
    "moodel.compile(optimizer='Adam', loss='sparse_categorical_crossentropy', metrics = 'accuracy')"
   ]
  },
  {
   "cell_type": "code",
   "execution_count": 18,
   "metadata": {},
   "outputs": [
    {
     "name": "stdout",
     "output_type": "stream",
     "text": [
      "Epoch 1/50\n",
      "785/785 [==============================] - 5s 4ms/step - loss: 171714.4375 - accuracy: 0.4153 - val_loss: 74978.1484 - val_accuracy: 0.4423\n",
      "Epoch 2/50\n",
      "785/785 [==============================] - 4s 4ms/step - loss: 55029.5430 - accuracy: 0.4396 - val_loss: 39736.2695 - val_accuracy: 0.5026\n",
      "Epoch 3/50\n",
      "785/785 [==============================] - 4s 5ms/step - loss: 29133.8770 - accuracy: 0.4447 - val_loss: 32843.6562 - val_accuracy: 0.4956\n",
      "Epoch 4/50\n",
      "785/785 [==============================] - 4s 5ms/step - loss: 12421.6396 - accuracy: 0.4547 - val_loss: 8246.9795 - val_accuracy: 0.5786\n",
      "Epoch 5/50\n",
      "785/785 [==============================] - 3s 4ms/step - loss: 4026.1411 - accuracy: 0.4674 - val_loss: 1273.8685 - val_accuracy: 0.4173\n",
      "Epoch 6/50\n",
      "785/785 [==============================] - 4s 5ms/step - loss: 1385.6638 - accuracy: 0.4807 - val_loss: 703.1549 - val_accuracy: 0.3416\n",
      "Epoch 7/50\n",
      "785/785 [==============================] - 4s 5ms/step - loss: 238.7986 - accuracy: 0.5074 - val_loss: 1.7861 - val_accuracy: 0.5389\n",
      "Epoch 8/50\n",
      "785/785 [==============================] - 4s 5ms/step - loss: 4.6663 - accuracy: 0.5230 - val_loss: 3.1772 - val_accuracy: 0.4662\n",
      "Epoch 9/50\n",
      "785/785 [==============================] - 4s 5ms/step - loss: 3.9134 - accuracy: 0.5206 - val_loss: 2.7938 - val_accuracy: 0.5402\n",
      "Epoch 10/50\n",
      "785/785 [==============================] - 4s 5ms/step - loss: 3.0508 - accuracy: 0.5240 - val_loss: 4.7089 - val_accuracy: 0.5404\n",
      "Epoch 11/50\n",
      "785/785 [==============================] - 4s 5ms/step - loss: 2.6618 - accuracy: 0.5245 - val_loss: 2.5476 - val_accuracy: 0.5453\n",
      "Epoch 12/50\n",
      "785/785 [==============================] - 4s 5ms/step - loss: 2.8519 - accuracy: 0.5252 - val_loss: 2.1094 - val_accuracy: 0.5315\n",
      "Epoch 13/50\n",
      "785/785 [==============================] - 4s 5ms/step - loss: 32.9322 - accuracy: 0.5249 - val_loss: 3.8141 - val_accuracy: 0.5369\n",
      "Epoch 14/50\n",
      "785/785 [==============================] - 4s 5ms/step - loss: 3.1017 - accuracy: 0.5284 - val_loss: 4.8574 - val_accuracy: 0.5424\n",
      "Epoch 15/50\n",
      "785/785 [==============================] - 4s 5ms/step - loss: 2.2634 - accuracy: 0.5320 - val_loss: 1.6989 - val_accuracy: 0.5491\n",
      "Epoch 16/50\n",
      "785/785 [==============================] - 4s 5ms/step - loss: 2.4471 - accuracy: 0.5316 - val_loss: 4.4782 - val_accuracy: 0.5424\n",
      "Epoch 17/50\n",
      "785/785 [==============================] - 4s 5ms/step - loss: 2.1964 - accuracy: 0.5329 - val_loss: 4.4477 - val_accuracy: 0.4698\n",
      "Epoch 18/50\n",
      "785/785 [==============================] - 4s 5ms/step - loss: 44.9587 - accuracy: 0.5177 - val_loss: 1.8815 - val_accuracy: 0.5366\n",
      "Epoch 19/50\n",
      "785/785 [==============================] - 4s 5ms/step - loss: 1.5912 - accuracy: 0.5272 - val_loss: 1.5603 - val_accuracy: 0.5469\n",
      "Epoch 20/50\n",
      "785/785 [==============================] - 4s 5ms/step - loss: 1.5423 - accuracy: 0.5333 - val_loss: 1.4103 - val_accuracy: 0.5455\n",
      "Epoch 21/50\n",
      "785/785 [==============================] - 4s 5ms/step - loss: 1.4476 - accuracy: 0.5306 - val_loss: 1.2534 - val_accuracy: 0.5310\n",
      "Epoch 22/50\n",
      "785/785 [==============================] - 4s 5ms/step - loss: 1.1024 - accuracy: 0.5379 - val_loss: 1.0486 - val_accuracy: 0.5523\n",
      "Epoch 23/50\n",
      "785/785 [==============================] - 4s 5ms/step - loss: 1.0349 - accuracy: 0.5378 - val_loss: 1.1241 - val_accuracy: 0.5424\n",
      "Epoch 24/50\n",
      "785/785 [==============================] - 4s 5ms/step - loss: 0.9803 - accuracy: 0.5415 - val_loss: 0.9995 - val_accuracy: 0.4971\n",
      "Epoch 25/50\n",
      "785/785 [==============================] - 4s 5ms/step - loss: 0.9936 - accuracy: 0.5317 - val_loss: 0.9791 - val_accuracy: 0.5442\n",
      "Epoch 26/50\n",
      "785/785 [==============================] - 4s 5ms/step - loss: 0.9832 - accuracy: 0.5223 - val_loss: 1.0003 - val_accuracy: 0.5085\n",
      "Epoch 27/50\n",
      "785/785 [==============================] - 4s 5ms/step - loss: 0.9761 - accuracy: 0.5239 - val_loss: 1.0046 - val_accuracy: 0.4768\n",
      "Epoch 28/50\n",
      "785/785 [==============================] - 4s 5ms/step - loss: 0.9891 - accuracy: 0.5129 - val_loss: 1.0022 - val_accuracy: 0.5079\n",
      "Epoch 29/50\n",
      "785/785 [==============================] - 4s 5ms/step - loss: 1.0247 - accuracy: 0.5126 - val_loss: 1.1064 - val_accuracy: 0.5377\n",
      "Epoch 30/50\n",
      "785/785 [==============================] - 4s 5ms/step - loss: 0.9931 - accuracy: 0.5278 - val_loss: 1.0008 - val_accuracy: 0.5079\n",
      "Epoch 31/50\n",
      "785/785 [==============================] - 4s 5ms/step - loss: 0.9957 - accuracy: 0.5119 - val_loss: 1.0203 - val_accuracy: 0.5034\n",
      "Epoch 32/50\n",
      "785/785 [==============================] - 4s 5ms/step - loss: 1.0018 - accuracy: 0.5080 - val_loss: 1.0052 - val_accuracy: 0.5079\n",
      "Epoch 33/50\n",
      "785/785 [==============================] - 4s 5ms/step - loss: 0.9966 - accuracy: 0.5118 - val_loss: 1.0011 - val_accuracy: 0.5068\n",
      "Epoch 34/50\n",
      "785/785 [==============================] - 3s 4ms/step - loss: 0.9926 - accuracy: 0.5113 - val_loss: 1.0019 - val_accuracy: 0.5077\n",
      "Epoch 35/50\n",
      "785/785 [==============================] - 4s 5ms/step - loss: 24.4380 - accuracy: 0.5079 - val_loss: 1.0151 - val_accuracy: 0.5042\n",
      "Epoch 36/50\n",
      "785/785 [==============================] - 4s 5ms/step - loss: 1.0035 - accuracy: 0.5049 - val_loss: 1.0097 - val_accuracy: 0.5026\n",
      "Epoch 37/50\n",
      "785/785 [==============================] - 4s 5ms/step - loss: 22.5202 - accuracy: 0.5050 - val_loss: 1.0077 - val_accuracy: 0.5061\n",
      "Epoch 38/50\n",
      "785/785 [==============================] - 5s 6ms/step - loss: 0.9999 - accuracy: 0.5098 - val_loss: 1.0117 - val_accuracy: 0.5053\n",
      "Epoch 39/50\n",
      "785/785 [==============================] - 4s 5ms/step - loss: 1.0006 - accuracy: 0.5099 - val_loss: 1.0022 - val_accuracy: 0.5066\n",
      "Epoch 40/50\n",
      "785/785 [==============================] - 4s 4ms/step - loss: 1.0018 - accuracy: 0.5075 - val_loss: 1.0047 - val_accuracy: 0.5058\n",
      "Epoch 41/50\n",
      "785/785 [==============================] - 4s 5ms/step - loss: 1.0038 - accuracy: 0.5058 - val_loss: 1.0056 - val_accuracy: 0.5042\n",
      "Epoch 42/50\n",
      "785/785 [==============================] - 4s 5ms/step - loss: 0.9995 - accuracy: 0.5062 - val_loss: 1.0051 - val_accuracy: 0.5041\n",
      "Epoch 43/50\n",
      "785/785 [==============================] - 4s 5ms/step - loss: 0.9992 - accuracy: 0.5071 - val_loss: 1.0054 - val_accuracy: 0.5037\n",
      "Epoch 44/50\n",
      "785/785 [==============================] - 7s 9ms/step - loss: 0.9993 - accuracy: 0.5066 - val_loss: 1.0044 - val_accuracy: 0.5042\n",
      "Epoch 45/50\n",
      "785/785 [==============================] - 8s 11ms/step - loss: 1.0271 - accuracy: 0.4912 - val_loss: 1.0431 - val_accuracy: 0.4693\n",
      "Epoch 46/50\n",
      "785/785 [==============================] - 7s 9ms/step - loss: 1.0350 - accuracy: 0.4732 - val_loss: 1.0424 - val_accuracy: 0.4639\n",
      "Epoch 47/50\n",
      "785/785 [==============================] - 5s 6ms/step - loss: 1.0414 - accuracy: 0.4636 - val_loss: 1.0456 - val_accuracy: 0.4620\n",
      "Epoch 48/50\n",
      "785/785 [==============================] - 4s 5ms/step - loss: 1.0341 - accuracy: 0.4693 - val_loss: 1.0389 - val_accuracy: 0.4701\n",
      "Epoch 49/50\n",
      "785/785 [==============================] - 4s 5ms/step - loss: 1.0342 - accuracy: 0.4707 - val_loss: 1.0514 - val_accuracy: 0.4587\n",
      "Epoch 50/50\n",
      "785/785 [==============================] - 4s 5ms/step - loss: 1.0400 - accuracy: 0.4618 - val_loss: 1.0498 - val_accuracy: 0.4614\n"
     ]
    }
   ],
   "source": [
    "history = moodel.fit(\n",
    "    X_train, y_train,\n",
    "    validation_data=(X_test, y_test),\n",
    "    epochs=50,\n",
    "    callbacks=[loss_history_callback]\n",
    ")"
   ]
  },
  {
   "cell_type": "code",
   "execution_count": 19,
   "metadata": {},
   "outputs": [
    {
     "data": {
      "image/png": "[encoded data removed]",
      "text/plain": [
       "<Figure size 1200x400 with 2 Axes>"
      ]
     },
     "metadata": {},
     "output_type": "display_data"
    }
   ],
   "source": [
    "plot_acc(history)"
   ]
  },
  {
   "cell_type": "code",
   "execution_count": 20,
   "metadata": {},
   "outputs": [],
   "source": [
    "new_data.to_csv('new_data.csv',',')"
   ]
  },
  {
   "cell_type": "code",
   "execution_count": 21,
   "metadata": {},
   "outputs": [],
   "source": [
    "data.to_csv('test_data.csv', ',')"
   ]
  },
  {
   "cell_type": "code",
   "execution_count": 22,
   "metadata": {},
   "outputs": [],
   "source": [
    "import joblib"
   ]
  },
  {
   "cell_type": "code",
   "execution_count": 23,
   "metadata": {},
   "outputs": [],
   "source": [
    "moodel.save('dlmodel.h5')"
   ]
  },
  {
   "cell_type": "code",
   "execution_count": 24,
   "metadata": {},
   "outputs": [
    {
     "data": {
      "text/plain": [
       "['labelencoderfordl.joblib']"
      ]
     },
     "execution_count": 24,
     "metadata": {},
     "output_type": "execute_result"
    }
   ],
   "source": [
    "joblib.dump(le, 'labelencoderfordl.joblib')"
   ]
  },
  {
   "cell_type": "code",
   "execution_count": null,
   "metadata": {},
   "outputs": [],
   "source": []
  }
 ],
 "metadata": {
  "kernelspec": {
   "display_name": "Python 3",
   "language": "python",
   "name": "python3"
  },
  "language_info": {
   "codemirror_mode": {
    "name": "ipython",
    "version": 3
   },
   "file_extension": ".py",
   "mimetype": "text/x-python",
   "name": "python",
   "nbconvert_exporter": "python",
   "pygments_lexer": "ipython3",
   "version": "3.10.10"
  },
  "orig_nbformat": 4
 },
 "nbformat": 4,
 "nbformat_minor": 2
}
