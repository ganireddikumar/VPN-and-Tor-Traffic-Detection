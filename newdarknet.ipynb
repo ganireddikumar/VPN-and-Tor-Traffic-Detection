{
 "cells": [
  {
   "cell_type": "code",
   "execution_count": 40,
   "metadata": {},
   "outputs": [],
   "source": [
    "#Importing the nesecarry libraries\n",
    "import pandas as pd\n",
    "import numpy as np\n",
    "from sklearn.model_selection import train_test_split\n",
    "from sklearn.preprocessing import StandardScaler, LabelEncoder\n",
    "from sklearn.linear_model import LogisticRegression\n",
    "from sklearn.svm import SVC\n",
    "from sklearn.ensemble import RandomForestClassifier\n",
    "from sklearn.metrics import accuracy_score\n",
    "from sklearn.metrics import confusion_matrix\n",
    "from sklearn.decomposition import PCA\n",
    "from sklearn.feature_selection import RFE\n",
    "import tensorflow as tf\n",
    "from tensorflow.keras.models import Sequential\n",
    "from tensorflow.keras.layers import Dense, LSTM, SimpleRNN\n",
    "from tensorflow.keras.utils import to_categorical\n",
    "import joblib\n",
    "import matplotlib.pyplot as plt"
   ]
  },
  {
   "cell_type": "code",
   "execution_count": 2,
   "metadata": {},
   "outputs": [],
   "source": [
    "#Reading the dataset\n",
    "data = pd.read_csv('Darknet.csv')"
   ]
  },
  {
   "cell_type": "code",
   "execution_count": 3,
   "metadata": {},
   "outputs": [
    {
     "data": {
      "text/html": [
       "<div>\n",
       "<style scoped>\n",
       "    .dataframe tbody tr th:only-of-type {\n",
       "        vertical-align: middle;\n",
       "    }\n",
       "\n",
       "    .dataframe tbody tr th {\n",
       "        vertical-align: top;\n",
       "    }\n",
       "\n",
       "    .dataframe thead th {\n",
       "        text-align: right;\n",
       "    }\n",
       "</style>\n",
       "<table border=\"1\" class=\"dataframe\">\n",
       "  <thead>\n",
       "    <tr style=\"text-align: right;\">\n",
       "      <th></th>\n",
       "      <th>Flow ID</th>\n",
       "      <th>Src IP</th>\n",
       "      <th>Src Port</th>\n",
       "      <th>Dst IP</th>\n",
       "      <th>Dst Port</th>\n",
       "      <th>Protocol</th>\n",
       "      <th>Timestamp</th>\n",
       "      <th>Flow Duration</th>\n",
       "      <th>Total Fwd Packet</th>\n",
       "      <th>Total Bwd packets</th>\n",
       "      <th>...</th>\n",
       "      <th>Active Mean</th>\n",
       "      <th>Active Std</th>\n",
       "      <th>Active Max</th>\n",
       "      <th>Active Min</th>\n",
       "      <th>Idle Mean</th>\n",
       "      <th>Idle Std</th>\n",
       "      <th>Idle Max</th>\n",
       "      <th>Idle Min</th>\n",
       "      <th>Label</th>\n",
       "      <th>Label.1</th>\n",
       "    </tr>\n",
       "  </thead>\n",
       "  <tbody>\n",
       "    <tr>\n",
       "      <th>0</th>\n",
       "      <td>10.152.152.11-216.58.220.99-57158-443-6</td>\n",
       "      <td>10.152.152.11</td>\n",
       "      <td>57158</td>\n",
       "      <td>216.58.220.99</td>\n",
       "      <td>443</td>\n",
       "      <td>6</td>\n",
       "      <td>24/07/2015 04:09:48 PM</td>\n",
       "      <td>229</td>\n",
       "      <td>1</td>\n",
       "      <td>1</td>\n",
       "      <td>...</td>\n",
       "      <td>0</td>\n",
       "      <td>0</td>\n",
       "      <td>0</td>\n",
       "      <td>0</td>\n",
       "      <td>0.000000e+00</td>\n",
       "      <td>0.000</td>\n",
       "      <td>0.000000e+00</td>\n",
       "      <td>0.000000e+00</td>\n",
       "      <td>Non-Tor</td>\n",
       "      <td>AUDIO-STREAMING</td>\n",
       "    </tr>\n",
       "    <tr>\n",
       "      <th>1</th>\n",
       "      <td>10.152.152.11-216.58.220.99-57159-443-6</td>\n",
       "      <td>10.152.152.11</td>\n",
       "      <td>57159</td>\n",
       "      <td>216.58.220.99</td>\n",
       "      <td>443</td>\n",
       "      <td>6</td>\n",
       "      <td>24/07/2015 04:09:48 PM</td>\n",
       "      <td>407</td>\n",
       "      <td>1</td>\n",
       "      <td>1</td>\n",
       "      <td>...</td>\n",
       "      <td>0</td>\n",
       "      <td>0</td>\n",
       "      <td>0</td>\n",
       "      <td>0</td>\n",
       "      <td>0.000000e+00</td>\n",
       "      <td>0.000</td>\n",
       "      <td>0.000000e+00</td>\n",
       "      <td>0.000000e+00</td>\n",
       "      <td>Non-Tor</td>\n",
       "      <td>AUDIO-STREAMING</td>\n",
       "    </tr>\n",
       "    <tr>\n",
       "      <th>2</th>\n",
       "      <td>10.152.152.11-216.58.220.99-57160-443-6</td>\n",
       "      <td>10.152.152.11</td>\n",
       "      <td>57160</td>\n",
       "      <td>216.58.220.99</td>\n",
       "      <td>443</td>\n",
       "      <td>6</td>\n",
       "      <td>24/07/2015 04:09:48 PM</td>\n",
       "      <td>431</td>\n",
       "      <td>1</td>\n",
       "      <td>1</td>\n",
       "      <td>...</td>\n",
       "      <td>0</td>\n",
       "      <td>0</td>\n",
       "      <td>0</td>\n",
       "      <td>0</td>\n",
       "      <td>0.000000e+00</td>\n",
       "      <td>0.000</td>\n",
       "      <td>0.000000e+00</td>\n",
       "      <td>0.000000e+00</td>\n",
       "      <td>Non-Tor</td>\n",
       "      <td>AUDIO-STREAMING</td>\n",
       "    </tr>\n",
       "    <tr>\n",
       "      <th>3</th>\n",
       "      <td>10.152.152.11-74.125.136.120-49134-443-6</td>\n",
       "      <td>10.152.152.11</td>\n",
       "      <td>49134</td>\n",
       "      <td>74.125.136.120</td>\n",
       "      <td>443</td>\n",
       "      <td>6</td>\n",
       "      <td>24/07/2015 04:09:48 PM</td>\n",
       "      <td>359</td>\n",
       "      <td>1</td>\n",
       "      <td>1</td>\n",
       "      <td>...</td>\n",
       "      <td>0</td>\n",
       "      <td>0</td>\n",
       "      <td>0</td>\n",
       "      <td>0</td>\n",
       "      <td>0.000000e+00</td>\n",
       "      <td>0.000</td>\n",
       "      <td>0.000000e+00</td>\n",
       "      <td>0.000000e+00</td>\n",
       "      <td>Non-Tor</td>\n",
       "      <td>AUDIO-STREAMING</td>\n",
       "    </tr>\n",
       "    <tr>\n",
       "      <th>4</th>\n",
       "      <td>10.152.152.11-173.194.65.127-34697-19305-6</td>\n",
       "      <td>10.152.152.11</td>\n",
       "      <td>34697</td>\n",
       "      <td>173.194.65.127</td>\n",
       "      <td>19305</td>\n",
       "      <td>6</td>\n",
       "      <td>24/07/2015 04:09:45 PM</td>\n",
       "      <td>10778451</td>\n",
       "      <td>591</td>\n",
       "      <td>400</td>\n",
       "      <td>...</td>\n",
       "      <td>0</td>\n",
       "      <td>0</td>\n",
       "      <td>0</td>\n",
       "      <td>0</td>\n",
       "      <td>1.437760e+15</td>\n",
       "      <td>3117718.131</td>\n",
       "      <td>1.437760e+15</td>\n",
       "      <td>1.437760e+15</td>\n",
       "      <td>Non-Tor</td>\n",
       "      <td>AUDIO-STREAMING</td>\n",
       "    </tr>\n",
       "  </tbody>\n",
       "</table>\n",
       "<p>5 rows × 85 columns</p>\n",
       "</div>"
      ],
      "text/plain": [
       "                                      Flow ID         Src IP  Src Port  \\\n",
       "0     10.152.152.11-216.58.220.99-57158-443-6  10.152.152.11     57158   \n",
       "1     10.152.152.11-216.58.220.99-57159-443-6  10.152.152.11     57159   \n",
       "2     10.152.152.11-216.58.220.99-57160-443-6  10.152.152.11     57160   \n",
       "3    10.152.152.11-74.125.136.120-49134-443-6  10.152.152.11     49134   \n",
       "4  10.152.152.11-173.194.65.127-34697-19305-6  10.152.152.11     34697   \n",
       "\n",
       "           Dst IP  Dst Port  Protocol               Timestamp  Flow Duration  \\\n",
       "0   216.58.220.99       443         6  24/07/2015 04:09:48 PM            229   \n",
       "1   216.58.220.99       443         6  24/07/2015 04:09:48 PM            407   \n",
       "2   216.58.220.99       443         6  24/07/2015 04:09:48 PM            431   \n",
       "3  74.125.136.120       443         6  24/07/2015 04:09:48 PM            359   \n",
       "4  173.194.65.127     19305         6  24/07/2015 04:09:45 PM       10778451   \n",
       "\n",
       "   Total Fwd Packet  Total Bwd packets  ...  Active Mean  Active Std  \\\n",
       "0                 1                  1  ...            0           0   \n",
       "1                 1                  1  ...            0           0   \n",
       "2                 1                  1  ...            0           0   \n",
       "3                 1                  1  ...            0           0   \n",
       "4               591                400  ...            0           0   \n",
       "\n",
       "   Active Max  Active Min     Idle Mean     Idle Std      Idle Max  \\\n",
       "0           0           0  0.000000e+00        0.000  0.000000e+00   \n",
       "1           0           0  0.000000e+00        0.000  0.000000e+00   \n",
       "2           0           0  0.000000e+00        0.000  0.000000e+00   \n",
       "3           0           0  0.000000e+00        0.000  0.000000e+00   \n",
       "4           0           0  1.437760e+15  3117718.131  1.437760e+15   \n",
       "\n",
       "       Idle Min    Label          Label.1  \n",
       "0  0.000000e+00  Non-Tor  AUDIO-STREAMING  \n",
       "1  0.000000e+00  Non-Tor  AUDIO-STREAMING  \n",
       "2  0.000000e+00  Non-Tor  AUDIO-STREAMING  \n",
       "3  0.000000e+00  Non-Tor  AUDIO-STREAMING  \n",
       "4  1.437760e+15  Non-Tor  AUDIO-STREAMING  \n",
       "\n",
       "[5 rows x 85 columns]"
      ]
     },
     "execution_count": 3,
     "metadata": {},
     "output_type": "execute_result"
    }
   ],
   "source": [
    "data.head()"
   ]
  },
  {
   "cell_type": "code",
   "execution_count": 4,
   "metadata": {},
   "outputs": [],
   "source": [
    "import math\n",
    "def log_val(val):\n",
    "    if val != 0.0:\n",
    "        val = val\n",
    "    else:\n",
    "        val = 1.0\n",
    "    return int(math.log10(val))"
   ]
  },
  {
   "cell_type": "code",
   "execution_count": 5,
   "metadata": {},
   "outputs": [
    {
     "name": "stdout",
     "output_type": "stream",
     "text": [
      "<class 'pandas.core.frame.DataFrame'>\n",
      "RangeIndex: 141530 entries, 0 to 141529\n",
      "Data columns (total 85 columns):\n",
      " #   Column                      Non-Null Count   Dtype  \n",
      "---  ------                      --------------   -----  \n",
      " 0   Flow ID                     141530 non-null  object \n",
      " 1   Src IP                      141530 non-null  object \n",
      " 2   Src Port                    141530 non-null  int64  \n",
      " 3   Dst IP                      141530 non-null  object \n",
      " 4   Dst Port                    141530 non-null  int64  \n",
      " 5   Protocol                    141530 non-null  int64  \n",
      " 6   Timestamp                   141530 non-null  object \n",
      " 7   Flow Duration               141530 non-null  int64  \n",
      " 8   Total Fwd Packet            141530 non-null  int64  \n",
      " 9   Total Bwd packets           141530 non-null  int64  \n",
      " 10  Total Length of Fwd Packet  141530 non-null  int64  \n",
      " 11  Total Length of Bwd Packet  141530 non-null  int64  \n",
      " 12  Fwd Packet Length Max       141530 non-null  int64  \n",
      " 13  Fwd Packet Length Min       141530 non-null  int64  \n",
      " 14  Fwd Packet Length Mean      141530 non-null  float64\n",
      " 15  Fwd Packet Length Std       141530 non-null  float64\n",
      " 16  Bwd Packet Length Max       141530 non-null  int64  \n",
      " 17  Bwd Packet Length Min       141530 non-null  int64  \n",
      " 18  Bwd Packet Length Mean      141530 non-null  float64\n",
      " 19  Bwd Packet Length Std       141530 non-null  float64\n",
      " 20  Flow Bytes/s                141483 non-null  float64\n",
      " 21  Flow Packets/s              141530 non-null  float64\n",
      " 22  Flow IAT Mean               141530 non-null  float64\n",
      " 23  Flow IAT Std                141530 non-null  float64\n",
      " 24  Flow IAT Max                141530 non-null  int64  \n",
      " 25  Flow IAT Min                141530 non-null  int64  \n",
      " 26  Fwd IAT Total               141530 non-null  int64  \n",
      " 27  Fwd IAT Mean                141530 non-null  float64\n",
      " 28  Fwd IAT Std                 141530 non-null  float64\n",
      " 29  Fwd IAT Max                 141530 non-null  int64  \n",
      " 30  Fwd IAT Min                 141530 non-null  int64  \n",
      " 31  Bwd IAT Total               141530 non-null  int64  \n",
      " 32  Bwd IAT Mean                141530 non-null  float64\n",
      " 33  Bwd IAT Std                 141530 non-null  float64\n",
      " 34  Bwd IAT Max                 141530 non-null  int64  \n",
      " 35  Bwd IAT Min                 141530 non-null  int64  \n",
      " 36  Fwd PSH Flags               141530 non-null  int64  \n",
      " 37  Bwd PSH Flags               141530 non-null  int64  \n",
      " 38  Fwd URG Flags               141530 non-null  int64  \n",
      " 39  Bwd URG Flags               141530 non-null  int64  \n",
      " 40  Fwd Header Length           141530 non-null  int64  \n",
      " 41  Bwd Header Length           141530 non-null  int64  \n",
      " 42  Fwd Packets/s               141530 non-null  float64\n",
      " 43  Bwd Packets/s               141530 non-null  float64\n",
      " 44  Packet Length Min           141530 non-null  int64  \n",
      " 45  Packet Length Max           141530 non-null  int64  \n",
      " 46  Packet Length Mean          141530 non-null  float64\n",
      " 47  Packet Length Std           141530 non-null  float64\n",
      " 48  Packet Length Variance      141530 non-null  float64\n",
      " 49  FIN Flag Count              141530 non-null  int64  \n",
      " 50  SYN Flag Count              141530 non-null  int64  \n",
      " 51  RST Flag Count              141530 non-null  int64  \n",
      " 52  PSH Flag Count              141530 non-null  int64  \n",
      " 53  ACK Flag Count              141530 non-null  int64  \n",
      " 54  URG Flag Count              141530 non-null  int64  \n",
      " 55  CWE Flag Count              141530 non-null  int64  \n",
      " 56  ECE Flag Count              141530 non-null  int64  \n",
      " 57  Down/Up Ratio               141530 non-null  int64  \n",
      " 58  Average Packet Size         141530 non-null  float64\n",
      " 59  Fwd Segment Size Avg        141530 non-null  float64\n",
      " 60  Bwd Segment Size Avg        141530 non-null  float64\n",
      " 61  Fwd Bytes/Bulk Avg          141530 non-null  int64  \n",
      " 62  Fwd Packet/Bulk Avg         141530 non-null  int64  \n",
      " 63  Fwd Bulk Rate Avg           141530 non-null  int64  \n",
      " 64  Bwd Bytes/Bulk Avg          141530 non-null  int64  \n",
      " 65  Bwd Packet/Bulk Avg         141530 non-null  int64  \n",
      " 66  Bwd Bulk Rate Avg           141530 non-null  int64  \n",
      " 67  Subflow Fwd Packets         141530 non-null  int64  \n",
      " 68  Subflow Fwd Bytes           141530 non-null  int64  \n",
      " 69  Subflow Bwd Packets         141530 non-null  int64  \n",
      " 70  Subflow Bwd Bytes           141530 non-null  int64  \n",
      " 71  FWD Init Win Bytes          141530 non-null  int64  \n",
      " 72  Bwd Init Win Bytes          141530 non-null  int64  \n",
      " 73  Fwd Act Data Pkts           141530 non-null  int64  \n",
      " 74  Fwd Seg Size Min            141530 non-null  int64  \n",
      " 75  Active Mean                 141530 non-null  int64  \n",
      " 76  Active Std                  141530 non-null  int64  \n",
      " 77  Active Max                  141530 non-null  int64  \n",
      " 78  Active Min                  141530 non-null  int64  \n",
      " 79  Idle Mean                   141530 non-null  float64\n",
      " 80  Idle Std                    141530 non-null  float64\n",
      " 81  Idle Max                    141530 non-null  float64\n",
      " 82  Idle Min                    141530 non-null  float64\n",
      " 83  Label                       141530 non-null  object \n",
      " 84  Label.1                     141530 non-null  object \n",
      "dtypes: float64(24), int64(55), object(6)\n",
      "memory usage: 91.8+ MB\n"
     ]
    }
   ],
   "source": [
    "data.info()"
   ]
  },
  {
   "cell_type": "code",
   "execution_count": 6,
   "metadata": {},
   "outputs": [
    {
     "data": {
      "text/plain": [
       "array(['Non-Tor', 'NonVPN', 'Tor', 'VPN'], dtype=object)"
      ]
     },
     "execution_count": 6,
     "metadata": {},
     "output_type": "execute_result"
    }
   ],
   "source": [
    "data.Label.unique()"
   ]
  },
  {
   "cell_type": "code",
   "execution_count": 7,
   "metadata": {},
   "outputs": [
    {
     "data": {
      "text/plain": [
       "47"
      ]
     },
     "execution_count": 7,
     "metadata": {},
     "output_type": "execute_result"
    }
   ],
   "source": [
    "sum(data.isnull().sum())"
   ]
  },
  {
   "cell_type": "code",
   "execution_count": 8,
   "metadata": {},
   "outputs": [],
   "source": [
    "data = data.dropna()"
   ]
  },
  {
   "cell_type": "code",
   "execution_count": 9,
   "metadata": {},
   "outputs": [
    {
     "data": {
      "text/plain": [
       "0"
      ]
     },
     "execution_count": 9,
     "metadata": {},
     "output_type": "execute_result"
    }
   ],
   "source": [
    "sum(data.isnull().sum())"
   ]
  },
  {
   "cell_type": "code",
   "execution_count": null,
   "metadata": {},
   "outputs": [],
   "source": []
  },
  {
   "cell_type": "code",
   "execution_count": 10,
   "metadata": {},
   "outputs": [],
   "source": [
    "data.drop([35848, 89028], inplace=True)"
   ]
  },
  {
   "cell_type": "code",
   "execution_count": 11,
   "metadata": {},
   "outputs": [],
   "source": [
    "Y = data['Label']"
   ]
  },
  {
   "cell_type": "code",
   "execution_count": 12,
   "metadata": {},
   "outputs": [
    {
     "data": {
      "text/plain": [
       "Index(['Src Port', 'Dst Port', 'Protocol', 'Flow Duration', 'Total Fwd Packet',\n",
       "       'Total Bwd packets', 'Total Length of Fwd Packet',\n",
       "       'Total Length of Bwd Packet', 'Fwd Packet Length Max',\n",
       "       'Fwd Packet Length Min', 'Fwd Packet Length Mean',\n",
       "       'Fwd Packet Length Std', 'Bwd Packet Length Max',\n",
       "       'Bwd Packet Length Min', 'Bwd Packet Length Mean',\n",
       "       'Bwd Packet Length Std', 'Flow Bytes/s', 'Flow Packets/s',\n",
       "       'Flow IAT Mean', 'Flow IAT Std', 'Flow IAT Max', 'Flow IAT Min',\n",
       "       'Fwd IAT Total', 'Fwd IAT Mean', 'Fwd IAT Std', 'Fwd IAT Max',\n",
       "       'Fwd IAT Min', 'Bwd IAT Total', 'Bwd IAT Mean', 'Bwd IAT Std',\n",
       "       'Bwd IAT Max', 'Bwd IAT Min', 'Fwd PSH Flags', 'Bwd PSH Flags',\n",
       "       'Fwd URG Flags', 'Bwd URG Flags', 'Fwd Header Length',\n",
       "       'Bwd Header Length', 'Fwd Packets/s', 'Bwd Packets/s',\n",
       "       'Packet Length Min', 'Packet Length Max', 'Packet Length Mean',\n",
       "       'Packet Length Std', 'Packet Length Variance', 'FIN Flag Count',\n",
       "       'SYN Flag Count', 'RST Flag Count', 'PSH Flag Count', 'ACK Flag Count',\n",
       "       'URG Flag Count', 'CWE Flag Count', 'ECE Flag Count', 'Down/Up Ratio',\n",
       "       'Average Packet Size', 'Fwd Segment Size Avg', 'Bwd Segment Size Avg',\n",
       "       'Fwd Bytes/Bulk Avg', 'Fwd Packet/Bulk Avg', 'Fwd Bulk Rate Avg',\n",
       "       'Bwd Bytes/Bulk Avg', 'Bwd Packet/Bulk Avg', 'Bwd Bulk Rate Avg',\n",
       "       'Subflow Fwd Packets', 'Subflow Fwd Bytes', 'Subflow Bwd Packets',\n",
       "       'Subflow Bwd Bytes', 'FWD Init Win Bytes', 'Bwd Init Win Bytes',\n",
       "       'Fwd Act Data Pkts', 'Fwd Seg Size Min', 'Active Mean', 'Active Std',\n",
       "       'Active Max', 'Active Min', 'Idle Mean', 'Idle Std', 'Idle Max',\n",
       "       'Idle Min'],\n",
       "      dtype='object')"
      ]
     },
     "execution_count": 12,
     "metadata": {},
     "output_type": "execute_result"
    }
   ],
   "source": [
    "data = data.select_dtypes(include=['float64', 'int64'])\n",
    "data.columns"
   ]
  },
  {
   "cell_type": "code",
   "execution_count": 13,
   "metadata": {},
   "outputs": [],
   "source": [
    "data['Idle Mean']=data['Idle Mean'].apply(lambda x: log_val(x))"
   ]
  },
  {
   "cell_type": "code",
   "execution_count": 14,
   "metadata": {},
   "outputs": [],
   "source": [
    "data['Idle Min']=data['Idle Min'].apply(lambda x: log_val(x))\n",
    "data['Idle Max']=data['Idle Max'].apply(lambda x: log_val(x))"
   ]
  },
  {
   "cell_type": "code",
   "execution_count": 15,
   "metadata": {},
   "outputs": [],
   "source": [
    "data = data[['Protocol', 'Flow Duration', 'Total Fwd Packet', 'Total Bwd packets',\n",
    "       'Total Length of Fwd Packet', 'Total Length of Bwd Packet',\n",
    "       'Fwd Packet Length Max', 'Fwd Packet Length Min',\n",
    "       'Fwd Packet Length Mean', 'Fwd Packet Length Std',\n",
    "       'Bwd Packet Length Max', 'Bwd Packet Length Min','Fwd PSH Flags',\n",
    "       'Bwd PSH Flags', 'Fwd URG Flags', 'Bwd URG Flags', 'Fwd Header Length',\n",
    "       'Bwd Header Length', 'Fwd Packets/s', 'Bwd Packets/s','FIN Flag Count',\n",
    "       'SYN Flag Count', 'RST Flag Count', 'PSH Flag Count', 'ACK Flag Count',\n",
    "       'URG Flag Count', 'CWE Flag Count', 'ECE Flag Count', 'Down/Up Ratio', 'Idle Mean', 'Idle Min', 'Idle Max']]"
   ]
  },
  {
   "cell_type": "code",
   "execution_count": 16,
   "metadata": {},
   "outputs": [
    {
     "data": {
      "text/html": [
       "<style>#sk-container-id-1 {color: black;background-color: white;}#sk-container-id-1 pre{padding: 0;}#sk-container-id-1 div.sk-toggleable {background-color: white;}#sk-container-id-1 label.sk-toggleable__label {cursor: pointer;display: block;width: 100%;margin-bottom: 0;padding: 0.3em;box-sizing: border-box;text-align: center;}#sk-container-id-1 label.sk-toggleable__label-arrow:before {content: \"▸\";float: left;margin-right: 0.25em;color: #696969;}#sk-container-id-1 label.sk-toggleable__label-arrow:hover:before {color: black;}#sk-container-id-1 div.sk-estimator:hover label.sk-toggleable__label-arrow:before {color: black;}#sk-container-id-1 div.sk-toggleable__content {max-height: 0;max-width: 0;overflow: hidden;text-align: left;background-color: #f0f8ff;}#sk-container-id-1 div.sk-toggleable__content pre {margin: 0.2em;color: black;border-radius: 0.25em;background-color: #f0f8ff;}#sk-container-id-1 input.sk-toggleable__control:checked~div.sk-toggleable__content {max-height: 200px;max-width: 100%;overflow: auto;}#sk-container-id-1 input.sk-toggleable__control:checked~label.sk-toggleable__label-arrow:before {content: \"▾\";}#sk-container-id-1 div.sk-estimator input.sk-toggleable__control:checked~label.sk-toggleable__label {background-color: #d4ebff;}#sk-container-id-1 div.sk-label input.sk-toggleable__control:checked~label.sk-toggleable__label {background-color: #d4ebff;}#sk-container-id-1 input.sk-hidden--visually {border: 0;clip: rect(1px 1px 1px 1px);clip: rect(1px, 1px, 1px, 1px);height: 1px;margin: -1px;overflow: hidden;padding: 0;position: absolute;width: 1px;}#sk-container-id-1 div.sk-estimator {font-family: monospace;background-color: #f0f8ff;border: 1px dotted black;border-radius: 0.25em;box-sizing: border-box;margin-bottom: 0.5em;}#sk-container-id-1 div.sk-estimator:hover {background-color: #d4ebff;}#sk-container-id-1 div.sk-parallel-item::after {content: \"\";width: 100%;border-bottom: 1px solid gray;flex-grow: 1;}#sk-container-id-1 div.sk-label:hover label.sk-toggleable__label {background-color: #d4ebff;}#sk-container-id-1 div.sk-serial::before {content: \"\";position: absolute;border-left: 1px solid gray;box-sizing: border-box;top: 0;bottom: 0;left: 50%;z-index: 0;}#sk-container-id-1 div.sk-serial {display: flex;flex-direction: column;align-items: center;background-color: white;padding-right: 0.2em;padding-left: 0.2em;position: relative;}#sk-container-id-1 div.sk-item {position: relative;z-index: 1;}#sk-container-id-1 div.sk-parallel {display: flex;align-items: stretch;justify-content: center;background-color: white;position: relative;}#sk-container-id-1 div.sk-item::before, #sk-container-id-1 div.sk-parallel-item::before {content: \"\";position: absolute;border-left: 1px solid gray;box-sizing: border-box;top: 0;bottom: 0;left: 50%;z-index: -1;}#sk-container-id-1 div.sk-parallel-item {display: flex;flex-direction: column;z-index: 1;position: relative;background-color: white;}#sk-container-id-1 div.sk-parallel-item:first-child::after {align-self: flex-end;width: 50%;}#sk-container-id-1 div.sk-parallel-item:last-child::after {align-self: flex-start;width: 50%;}#sk-container-id-1 div.sk-parallel-item:only-child::after {width: 0;}#sk-container-id-1 div.sk-dashed-wrapped {border: 1px dashed gray;margin: 0 0.4em 0.5em 0.4em;box-sizing: border-box;padding-bottom: 0.4em;background-color: white;}#sk-container-id-1 div.sk-label label {font-family: monospace;font-weight: bold;display: inline-block;line-height: 1.2em;}#sk-container-id-1 div.sk-label-container {text-align: center;}#sk-container-id-1 div.sk-container {/* jupyter's `normalize.less` sets `[hidden] { display: none; }` but bootstrap.min.css set `[hidden] { display: none !important; }` so we also need the `!important` here to be able to override the default hidden behavior on the sphinx rendered scikit-learn.org. See: https://github.com/scikit-learn/scikit-learn/issues/21755 */display: inline-block !important;position: relative;}#sk-container-id-1 div.sk-text-repr-fallback {display: none;}</style><div id=\"sk-container-id-1\" class=\"sk-top-container\"><div class=\"sk-text-repr-fallback\"><pre>RFE(estimator=RandomForestClassifier(), n_features_to_select=4)</pre><b>In a Jupyter environment, please rerun this cell to show the HTML representation or trust the notebook. <br />On GitHub, the HTML representation is unable to render, please try loading this page with nbviewer.org.</b></div><div class=\"sk-container\" hidden><div class=\"sk-item sk-dashed-wrapped\"><div class=\"sk-label-container\"><div class=\"sk-label sk-toggleable\"><input class=\"sk-toggleable__control sk-hidden--visually\" id=\"sk-estimator-id-1\" type=\"checkbox\" ><label for=\"sk-estimator-id-1\" class=\"sk-toggleable__label sk-toggleable__label-arrow\">RFE</label><div class=\"sk-toggleable__content\"><pre>RFE(estimator=RandomForestClassifier(), n_features_to_select=4)</pre></div></div></div><div class=\"sk-parallel\"><div class=\"sk-parallel-item\"><div class=\"sk-item\"><div class=\"sk-label-container\"><div class=\"sk-label sk-toggleable\"><input class=\"sk-toggleable__control sk-hidden--visually\" id=\"sk-estimator-id-2\" type=\"checkbox\" ><label for=\"sk-estimator-id-2\" class=\"sk-toggleable__label sk-toggleable__label-arrow\">estimator: RandomForestClassifier</label><div class=\"sk-toggleable__content\"><pre>RandomForestClassifier()</pre></div></div></div><div class=\"sk-serial\"><div class=\"sk-item\"><div class=\"sk-estimator sk-toggleable\"><input class=\"sk-toggleable__control sk-hidden--visually\" id=\"sk-estimator-id-3\" type=\"checkbox\" ><label for=\"sk-estimator-id-3\" class=\"sk-toggleable__label sk-toggleable__label-arrow\">RandomForestClassifier</label><div class=\"sk-toggleable__content\"><pre>RandomForestClassifier()</pre></div></div></div></div></div></div></div></div></div></div>"
      ],
      "text/plain": [
       "RFE(estimator=RandomForestClassifier(), n_features_to_select=4)"
      ]
     },
     "execution_count": 16,
     "metadata": {},
     "output_type": "execute_result"
    }
   ],
   "source": [
    "clf = RandomForestClassifier()\n",
    "rfe = RFE(estimator=clf, n_features_to_select=4, step=1)\n",
    "rfe.fit(data, Y)"
   ]
  },
  {
   "cell_type": "code",
   "execution_count": 17,
   "metadata": {},
   "outputs": [
    {
     "data": {
      "text/plain": [
       "['Flow Duration',\n",
       " 'Bwd Packet Length Min',\n",
       " 'Fwd Header Length',\n",
       " 'Fwd Packets/s']"
      ]
     },
     "execution_count": 17,
     "metadata": {},
     "output_type": "execute_result"
    }
   ],
   "source": [
    "RFE_selected_features = data.columns[rfe.support_]\n",
    "RFE_selected_features= RFE_selected_features.to_list()\n",
    "RFE_selected_features"
   ]
  },
  {
   "cell_type": "code",
   "execution_count": 18,
   "metadata": {},
   "outputs": [],
   "source": [
    "data = data[['Flow Duration',\n",
    " 'Bwd Packet Length Min',\n",
    " 'Fwd Header Length',\n",
    " 'Fwd Packets/s']]"
   ]
  },
  {
   "cell_type": "code",
   "execution_count": 19,
   "metadata": {},
   "outputs": [
    {
     "data": {
      "text/html": [
       "<div>\n",
       "<style scoped>\n",
       "    .dataframe tbody tr th:only-of-type {\n",
       "        vertical-align: middle;\n",
       "    }\n",
       "\n",
       "    .dataframe tbody tr th {\n",
       "        vertical-align: top;\n",
       "    }\n",
       "\n",
       "    .dataframe thead th {\n",
       "        text-align: right;\n",
       "    }\n",
       "</style>\n",
       "<table border=\"1\" class=\"dataframe\">\n",
       "  <thead>\n",
       "    <tr style=\"text-align: right;\">\n",
       "      <th></th>\n",
       "      <th>Flow Duration</th>\n",
       "      <th>Bwd Packet Length Min</th>\n",
       "      <th>Fwd Header Length</th>\n",
       "      <th>Fwd Packets/s</th>\n",
       "    </tr>\n",
       "  </thead>\n",
       "  <tbody>\n",
       "    <tr>\n",
       "      <th>0</th>\n",
       "      <td>229</td>\n",
       "      <td>0</td>\n",
       "      <td>20</td>\n",
       "      <td>4366.812227</td>\n",
       "    </tr>\n",
       "    <tr>\n",
       "      <th>1</th>\n",
       "      <td>407</td>\n",
       "      <td>0</td>\n",
       "      <td>20</td>\n",
       "      <td>2457.002457</td>\n",
       "    </tr>\n",
       "    <tr>\n",
       "      <th>2</th>\n",
       "      <td>431</td>\n",
       "      <td>0</td>\n",
       "      <td>20</td>\n",
       "      <td>2320.185615</td>\n",
       "    </tr>\n",
       "    <tr>\n",
       "      <th>3</th>\n",
       "      <td>359</td>\n",
       "      <td>0</td>\n",
       "      <td>20</td>\n",
       "      <td>2785.515320</td>\n",
       "    </tr>\n",
       "    <tr>\n",
       "      <th>4</th>\n",
       "      <td>10778451</td>\n",
       "      <td>0</td>\n",
       "      <td>11820</td>\n",
       "      <td>54.831627</td>\n",
       "    </tr>\n",
       "  </tbody>\n",
       "</table>\n",
       "</div>"
      ],
      "text/plain": [
       "   Flow Duration  Bwd Packet Length Min  Fwd Header Length  Fwd Packets/s\n",
       "0            229                      0                 20    4366.812227\n",
       "1            407                      0                 20    2457.002457\n",
       "2            431                      0                 20    2320.185615\n",
       "3            359                      0                 20    2785.515320\n",
       "4       10778451                      0              11820      54.831627"
      ]
     },
     "execution_count": 19,
     "metadata": {},
     "output_type": "execute_result"
    }
   ],
   "source": [
    "data.head()"
   ]
  },
  {
   "cell_type": "code",
   "execution_count": 20,
   "metadata": {},
   "outputs": [
    {
     "data": {
      "text/plain": [
       "array([[-2.08190011e+07,  5.07222419e+02, -3.84648275e+03,\n",
       "        -5.27168139e+01],\n",
       "       [-2.08188229e+07,  4.97036087e+02, -5.75624917e+03,\n",
       "        -5.31521567e+01],\n",
       "       [-2.08187989e+07,  4.96304495e+02, -5.89306188e+03,\n",
       "        -5.31833383e+01],\n",
       "       ...,\n",
       "       [-2.03969307e+07,  4.10476216e+02, -8.16985888e+03,\n",
       "        -5.34875711e+01],\n",
       "       [-2.04073747e+07,  4.12197782e+02, -8.17069435e+03,\n",
       "        -5.34930804e+01],\n",
       "       [ 9.91708201e+07,  2.86520632e+04,  2.56014133e+03,\n",
       "         9.23725479e+01]])"
      ]
     },
     "execution_count": 20,
     "metadata": {},
     "output_type": "execute_result"
    }
   ],
   "source": [
    "pca = PCA()\n",
    "pca.fit_transform(data)"
   ]
  },
  {
   "cell_type": "code",
   "execution_count": 21,
   "metadata": {},
   "outputs": [
    {
     "data": {
      "text/plain": [
       "['pca_transformer.joblib']"
      ]
     },
     "execution_count": 21,
     "metadata": {},
     "output_type": "execute_result"
    }
   ],
   "source": [
    "joblib.dump(pca, 'pca_transformer.joblib')"
   ]
  },
  {
   "cell_type": "code",
   "execution_count": 22,
   "metadata": {},
   "outputs": [],
   "source": [
    "X_train, X_test, y_train, y_test = train_test_split(data, Y, test_size=0.2, random_state=42)"
   ]
  },
  {
   "cell_type": "code",
   "execution_count": 23,
   "metadata": {},
   "outputs": [],
   "source": [
    "from sklearn.pipeline import Pipeline\n",
    "from sklearn.ensemble import VotingClassifier"
   ]
  },
  {
   "cell_type": "code",
   "execution_count": 24,
   "metadata": {},
   "outputs": [
    {
     "data": {
      "text/html": [
       "<style>#sk-container-id-2 {color: black;background-color: white;}#sk-container-id-2 pre{padding: 0;}#sk-container-id-2 div.sk-toggleable {background-color: white;}#sk-container-id-2 label.sk-toggleable__label {cursor: pointer;display: block;width: 100%;margin-bottom: 0;padding: 0.3em;box-sizing: border-box;text-align: center;}#sk-container-id-2 label.sk-toggleable__label-arrow:before {content: \"▸\";float: left;margin-right: 0.25em;color: #696969;}#sk-container-id-2 label.sk-toggleable__label-arrow:hover:before {color: black;}#sk-container-id-2 div.sk-estimator:hover label.sk-toggleable__label-arrow:before {color: black;}#sk-container-id-2 div.sk-toggleable__content {max-height: 0;max-width: 0;overflow: hidden;text-align: left;background-color: #f0f8ff;}#sk-container-id-2 div.sk-toggleable__content pre {margin: 0.2em;color: black;border-radius: 0.25em;background-color: #f0f8ff;}#sk-container-id-2 input.sk-toggleable__control:checked~div.sk-toggleable__content {max-height: 200px;max-width: 100%;overflow: auto;}#sk-container-id-2 input.sk-toggleable__control:checked~label.sk-toggleable__label-arrow:before {content: \"▾\";}#sk-container-id-2 div.sk-estimator input.sk-toggleable__control:checked~label.sk-toggleable__label {background-color: #d4ebff;}#sk-container-id-2 div.sk-label input.sk-toggleable__control:checked~label.sk-toggleable__label {background-color: #d4ebff;}#sk-container-id-2 input.sk-hidden--visually {border: 0;clip: rect(1px 1px 1px 1px);clip: rect(1px, 1px, 1px, 1px);height: 1px;margin: -1px;overflow: hidden;padding: 0;position: absolute;width: 1px;}#sk-container-id-2 div.sk-estimator {font-family: monospace;background-color: #f0f8ff;border: 1px dotted black;border-radius: 0.25em;box-sizing: border-box;margin-bottom: 0.5em;}#sk-container-id-2 div.sk-estimator:hover {background-color: #d4ebff;}#sk-container-id-2 div.sk-parallel-item::after {content: \"\";width: 100%;border-bottom: 1px solid gray;flex-grow: 1;}#sk-container-id-2 div.sk-label:hover label.sk-toggleable__label {background-color: #d4ebff;}#sk-container-id-2 div.sk-serial::before {content: \"\";position: absolute;border-left: 1px solid gray;box-sizing: border-box;top: 0;bottom: 0;left: 50%;z-index: 0;}#sk-container-id-2 div.sk-serial {display: flex;flex-direction: column;align-items: center;background-color: white;padding-right: 0.2em;padding-left: 0.2em;position: relative;}#sk-container-id-2 div.sk-item {position: relative;z-index: 1;}#sk-container-id-2 div.sk-parallel {display: flex;align-items: stretch;justify-content: center;background-color: white;position: relative;}#sk-container-id-2 div.sk-item::before, #sk-container-id-2 div.sk-parallel-item::before {content: \"\";position: absolute;border-left: 1px solid gray;box-sizing: border-box;top: 0;bottom: 0;left: 50%;z-index: -1;}#sk-container-id-2 div.sk-parallel-item {display: flex;flex-direction: column;z-index: 1;position: relative;background-color: white;}#sk-container-id-2 div.sk-parallel-item:first-child::after {align-self: flex-end;width: 50%;}#sk-container-id-2 div.sk-parallel-item:last-child::after {align-self: flex-start;width: 50%;}#sk-container-id-2 div.sk-parallel-item:only-child::after {width: 0;}#sk-container-id-2 div.sk-dashed-wrapped {border: 1px dashed gray;margin: 0 0.4em 0.5em 0.4em;box-sizing: border-box;padding-bottom: 0.4em;background-color: white;}#sk-container-id-2 div.sk-label label {font-family: monospace;font-weight: bold;display: inline-block;line-height: 1.2em;}#sk-container-id-2 div.sk-label-container {text-align: center;}#sk-container-id-2 div.sk-container {/* jupyter's `normalize.less` sets `[hidden] { display: none; }` but bootstrap.min.css set `[hidden] { display: none !important; }` so we also need the `!important` here to be able to override the default hidden behavior on the sphinx rendered scikit-learn.org. See: https://github.com/scikit-learn/scikit-learn/issues/21755 */display: inline-block !important;position: relative;}#sk-container-id-2 div.sk-text-repr-fallback {display: none;}</style><div id=\"sk-container-id-2\" class=\"sk-top-container\"><div class=\"sk-text-repr-fallback\"><pre>VotingClassifier(estimators=[(&#x27;lr&#x27;,\n",
       "                              Pipeline(steps=[(&#x27;clf&#x27;, LogisticRegression())])),\n",
       "                             (&#x27;rf&#x27;,\n",
       "                              Pipeline(steps=[(&#x27;clf&#x27;,\n",
       "                                               RandomForestClassifier())]))],\n",
       "                 voting=&#x27;soft&#x27;)</pre><b>In a Jupyter environment, please rerun this cell to show the HTML representation or trust the notebook. <br />On GitHub, the HTML representation is unable to render, please try loading this page with nbviewer.org.</b></div><div class=\"sk-container\" hidden><div class=\"sk-item sk-dashed-wrapped\"><div class=\"sk-label-container\"><div class=\"sk-label sk-toggleable\"><input class=\"sk-toggleable__control sk-hidden--visually\" id=\"sk-estimator-id-4\" type=\"checkbox\" ><label for=\"sk-estimator-id-4\" class=\"sk-toggleable__label sk-toggleable__label-arrow\">VotingClassifier</label><div class=\"sk-toggleable__content\"><pre>VotingClassifier(estimators=[(&#x27;lr&#x27;,\n",
       "                              Pipeline(steps=[(&#x27;clf&#x27;, LogisticRegression())])),\n",
       "                             (&#x27;rf&#x27;,\n",
       "                              Pipeline(steps=[(&#x27;clf&#x27;,\n",
       "                                               RandomForestClassifier())]))],\n",
       "                 voting=&#x27;soft&#x27;)</pre></div></div></div><div class=\"sk-parallel\"><div class=\"sk-parallel-item\"><div class=\"sk-item\"><div class=\"sk-label-container\"><div class=\"sk-label sk-toggleable\"><label>lr</label></div></div><div class=\"sk-serial\"><div class=\"sk-item\"><div class=\"sk-serial\"><div class=\"sk-item\"><div class=\"sk-estimator sk-toggleable\"><input class=\"sk-toggleable__control sk-hidden--visually\" id=\"sk-estimator-id-5\" type=\"checkbox\" ><label for=\"sk-estimator-id-5\" class=\"sk-toggleable__label sk-toggleable__label-arrow\">LogisticRegression</label><div class=\"sk-toggleable__content\"><pre>LogisticRegression()</pre></div></div></div></div></div></div></div></div><div class=\"sk-parallel-item\"><div class=\"sk-item\"><div class=\"sk-label-container\"><div class=\"sk-label sk-toggleable\"><label>rf</label></div></div><div class=\"sk-serial\"><div class=\"sk-item\"><div class=\"sk-serial\"><div class=\"sk-item\"><div class=\"sk-estimator sk-toggleable\"><input class=\"sk-toggleable__control sk-hidden--visually\" id=\"sk-estimator-id-6\" type=\"checkbox\" ><label for=\"sk-estimator-id-6\" class=\"sk-toggleable__label sk-toggleable__label-arrow\">RandomForestClassifier</label><div class=\"sk-toggleable__content\"><pre>RandomForestClassifier()</pre></div></div></div></div></div></div></div></div></div></div></div></div>"
      ],
      "text/plain": [
       "VotingClassifier(estimators=[('lr',\n",
       "                              Pipeline(steps=[('clf', LogisticRegression())])),\n",
       "                             ('rf',\n",
       "                              Pipeline(steps=[('clf',\n",
       "                                               RandomForestClassifier())]))],\n",
       "                 voting='soft')"
      ]
     },
     "execution_count": 24,
     "metadata": {},
     "output_type": "execute_result"
    }
   ],
   "source": [
    "lr = Pipeline(steps = [\n",
    "    ('clf', LogisticRegression())\n",
    "])\n",
    "rf = Pipeline(steps = [\n",
    "    ('clf', RandomForestClassifier())\n",
    "])\n",
    "\n",
    "voting = VotingClassifier(\n",
    "    estimators=[('lr', lr), ('rf', rf)],\n",
    "    voting = 'soft'\n",
    ")\n",
    "\n",
    "voting.fit(X_train, y_train)"
   ]
  },
  {
   "cell_type": "code",
   "execution_count": 25,
   "metadata": {},
   "outputs": [
    {
     "data": {
      "text/plain": [
       "0.9346927236102767"
      ]
     },
     "execution_count": 25,
     "metadata": {},
     "output_type": "execute_result"
    }
   ],
   "source": [
    "y_pred = voting.predict(X_test)\n",
    "accuracy_score(y_test, y_pred)"
   ]
  },
  {
   "cell_type": "code",
   "execution_count": 26,
   "metadata": {},
   "outputs": [],
   "source": [
    "from sklearn.metrics import classification_report, confusion_matrix, ConfusionMatrixDisplay"
   ]
  },
  {
   "cell_type": "code",
   "execution_count": 27,
   "metadata": {},
   "outputs": [
    {
     "name": "stdout",
     "output_type": "stream",
     "text": [
      "              precision    recall  f1-score   support\n",
      "\n",
      "     Non-Tor       0.95      0.99      0.97     18655\n",
      "      NonVPN       0.90      0.82      0.86      4752\n",
      "         Tor       0.63      0.34      0.44       282\n",
      "         VPN       0.90      0.85      0.88      4608\n",
      "\n",
      "    accuracy                           0.93     28297\n",
      "   macro avg       0.85      0.75      0.79     28297\n",
      "weighted avg       0.93      0.93      0.93     28297\n",
      "\n"
     ]
    }
   ],
   "source": [
    "print(classification_report(y_test, y_pred))"
   ]
  },
  {
   "cell_type": "code",
   "execution_count": 28,
   "metadata": {},
   "outputs": [],
   "source": [
    "cm = confusion_matrix(y_test, y_pred, labels=voting.classes_)"
   ]
  },
  {
   "cell_type": "code",
   "execution_count": 29,
   "metadata": {},
   "outputs": [],
   "source": [
    "disp = ConfusionMatrixDisplay(confusion_matrix=cm,display_labels=voting.classes_)"
   ]
  },
  {
   "cell_type": "code",
   "execution_count": 30,
   "metadata": {},
   "outputs": [
    {
     "data": {
      "text/plain": [
       "<sklearn.metrics._plot.confusion_matrix.ConfusionMatrixDisplay at 0x26ed3a31480>"
      ]
     },
     "execution_count": 30,
     "metadata": {},
     "output_type": "execute_result"
    },
    {
     "data": {
      "image/png": "[encoded data removed]",
      "text/plain": [
       "<Figure size 640x480 with 2 Axes>"
      ]
     },
     "metadata": {},
     "output_type": "display_data"
    }
   ],
   "source": [
    "disp.plot()"
   ]
  },
  {
   "cell_type": "code",
   "execution_count": null,
   "metadata": {},
   "outputs": [],
   "source": []
  },
  {
   "cell_type": "code",
   "execution_count": 31,
   "metadata": {},
   "outputs": [],
   "source": [
    "le = LabelEncoder()\n",
    "Y = le.fit_transform(Y)"
   ]
  },
  {
   "cell_type": "code",
   "execution_count": 32,
   "metadata": {},
   "outputs": [
    {
     "data": {
      "text/plain": [
       "array([0, 0, 0, ..., 3, 3, 3])"
      ]
     },
     "execution_count": 32,
     "metadata": {},
     "output_type": "execute_result"
    }
   ],
   "source": [
    "Y"
   ]
  },
  {
   "cell_type": "code",
   "execution_count": 33,
   "metadata": {},
   "outputs": [
    {
     "data": {
      "text/plain": [
       "['labelencoderfordl.joblib']"
      ]
     },
     "execution_count": 33,
     "metadata": {},
     "output_type": "execute_result"
    }
   ],
   "source": [
    "joblib.dump(le, 'labelencoderfordl.joblib')"
   ]
  },
  {
   "cell_type": "code",
   "execution_count": 34,
   "metadata": {},
   "outputs": [],
   "source": [
    "X_train, X_test, y_train, y_test = train_test_split(data, Y, test_size=0.2, random_state=42)"
   ]
  },
  {
   "cell_type": "code",
   "execution_count": 35,
   "metadata": {},
   "outputs": [
    {
     "data": {
      "text/plain": [
       "(113184, 4)"
      ]
     },
     "execution_count": 35,
     "metadata": {},
     "output_type": "execute_result"
    }
   ],
   "source": [
    "X_train.shape"
   ]
  },
  {
   "cell_type": "code",
   "execution_count": 36,
   "metadata": {},
   "outputs": [
    {
     "name": "stdout",
     "output_type": "stream",
     "text": [
      "Model: \"sequential\"\n",
      "_________________________________________________________________\n",
      " Layer (type)                Output Shape              Param #   \n",
      "=================================================================\n",
      " dense (Dense)               (None, 16)                80        \n",
      "                                                                 \n",
      " dense_1 (Dense)             (None, 6)                 102       \n",
      "                                                                 \n",
      " dense_2 (Dense)             (None, 4)                 28        \n",
      "                                                                 \n",
      "=================================================================\n",
      "Total params: 210\n",
      "Trainable params: 210\n",
      "Non-trainable params: 0\n",
      "_________________________________________________________________\n"
     ]
    }
   ],
   "source": [
    "model = Sequential(\n",
    "    [\n",
    "    Dense(16, input_shape=(4,)),\n",
    "    Dense(6),\n",
    "    Dense(4, activation='softmax'),\n",
    "    ]\n",
    ")\n",
    "model.compile(optimizer='Adam', loss='sparse_categorical_crossentropy', metrics=['accuracy'])\n",
    "model.summary()"
   ]
  },
  {
   "cell_type": "code",
   "execution_count": 37,
   "metadata": {},
   "outputs": [
    {
     "name": "stdout",
     "output_type": "stream",
     "text": [
      "Epoch 1/50\n",
      "3537/3537 [==============================] - 5s 1ms/step - loss: 75080.2109 - accuracy: 0.5635 - val_loss: 28332.8320 - val_accuracy: 0.7010\n",
      "Epoch 2/50\n",
      "3537/3537 [==============================] - 5s 1ms/step - loss: 41702.2383 - accuracy: 0.5448 - val_loss: 15742.6982 - val_accuracy: 0.7042\n",
      "Epoch 3/50\n",
      "3537/3537 [==============================] - 4s 1ms/step - loss: 34753.0352 - accuracy: 0.5410 - val_loss: 15031.3945 - val_accuracy: 0.6155\n",
      "Epoch 4/50\n",
      "3537/3537 [==============================] - 4s 1ms/step - loss: 32202.8887 - accuracy: 0.5453 - val_loss: 25325.4570 - val_accuracy: 0.7179\n",
      "Epoch 5/50\n",
      "3537/3537 [==============================] - 4s 1ms/step - loss: 28412.5059 - accuracy: 0.5504 - val_loss: 44289.7656 - val_accuracy: 0.6037\n",
      "Epoch 6/50\n",
      "3537/3537 [==============================] - 4s 1ms/step - loss: 26196.1406 - accuracy: 0.5527 - val_loss: 20817.7344 - val_accuracy: 0.2817\n",
      "Epoch 7/50\n",
      "3537/3537 [==============================] - 4s 1ms/step - loss: 19000.1445 - accuracy: 0.5608 - val_loss: 7281.6431 - val_accuracy: 0.6790\n",
      "Epoch 8/50\n",
      "3537/3537 [==============================] - 4s 1ms/step - loss: 12220.3311 - accuracy: 0.5703 - val_loss: 11666.8545 - val_accuracy: 0.6587\n",
      "Epoch 9/50\n",
      "3537/3537 [==============================] - 4s 1ms/step - loss: 3157.0981 - accuracy: 0.5573 - val_loss: 247.8255 - val_accuracy: 0.3183\n",
      "Epoch 10/50\n",
      "3537/3537 [==============================] - 4s 1ms/step - loss: 81.4073 - accuracy: 0.5781 - val_loss: 4.5215 - val_accuracy: 0.3722\n",
      "Epoch 11/50\n",
      "3537/3537 [==============================] - 4s 1ms/step - loss: 143.5521 - accuracy: 0.5867 - val_loss: 1.0328 - val_accuracy: 0.6569\n",
      "Epoch 12/50\n",
      "3537/3537 [==============================] - 5s 1ms/step - loss: 130.0299 - accuracy: 0.5770 - val_loss: 1256.8992 - val_accuracy: 0.6296\n",
      "Epoch 13/50\n",
      "3537/3537 [==============================] - 5s 2ms/step - loss: 129.2763 - accuracy: 0.5893 - val_loss: 925.3492 - val_accuracy: 0.2781\n",
      "Epoch 14/50\n",
      "3537/3537 [==============================] - 5s 1ms/step - loss: 225.1421 - accuracy: 0.5926 - val_loss: 1.4606 - val_accuracy: 0.6598\n",
      "Epoch 15/50\n",
      "3537/3537 [==============================] - 5s 1ms/step - loss: 111.9920 - accuracy: 0.6220 - val_loss: 881.8977 - val_accuracy: 0.6595\n",
      "Epoch 16/50\n",
      "3537/3537 [==============================] - 5s 1ms/step - loss: 173.7607 - accuracy: 0.6090 - val_loss: 907.8305 - val_accuracy: 0.6593\n",
      "Epoch 17/50\n",
      "3537/3537 [==============================] - 5s 1ms/step - loss: 66.9883 - accuracy: 0.6159 - val_loss: 4.8472 - val_accuracy: 0.6600\n",
      "Epoch 18/50\n",
      "3537/3537 [==============================] - 5s 1ms/step - loss: 167.0281 - accuracy: 0.6214 - val_loss: 1.8386 - val_accuracy: 0.6604\n",
      "Epoch 19/50\n",
      "3537/3537 [==============================] - 5s 1ms/step - loss: 167.3189 - accuracy: 0.6114 - val_loss: 2.8059 - val_accuracy: 0.6599\n",
      "Epoch 20/50\n",
      "3537/3537 [==============================] - 6s 2ms/step - loss: 124.1415 - accuracy: 0.5906 - val_loss: 147.2297 - val_accuracy: 0.7185\n",
      "Epoch 21/50\n",
      "3537/3537 [==============================] - 10s 3ms/step - loss: 94.9659 - accuracy: 0.5833 - val_loss: 1.1303 - val_accuracy: 0.6602\n",
      "Epoch 22/50\n",
      "3537/3537 [==============================] - 7s 2ms/step - loss: 97.9106 - accuracy: 0.5986 - val_loss: 1.0430 - val_accuracy: 0.6587\n",
      "Epoch 23/50\n",
      "3537/3537 [==============================] - 6s 2ms/step - loss: 156.1411 - accuracy: 0.6112 - val_loss: 56.9935 - val_accuracy: 0.6576\n",
      "Epoch 24/50\n",
      "3537/3537 [==============================] - 5s 1ms/step - loss: 131.0872 - accuracy: 0.5839 - val_loss: 1573.9044 - val_accuracy: 0.6528\n",
      "Epoch 25/50\n",
      "3537/3537 [==============================] - 5s 1ms/step - loss: 75.6136 - accuracy: 0.6094 - val_loss: 1.9665 - val_accuracy: 0.5415\n",
      "Epoch 26/50\n",
      "3537/3537 [==============================] - 4s 1ms/step - loss: 114.8284 - accuracy: 0.6053 - val_loss: 6.7625 - val_accuracy: 0.6602\n",
      "Epoch 27/50\n",
      "3537/3537 [==============================] - 4s 1ms/step - loss: 98.8704 - accuracy: 0.5875 - val_loss: 409.2599 - val_accuracy: 0.6567\n",
      "Epoch 28/50\n",
      "3537/3537 [==============================] - 5s 1ms/step - loss: 109.2494 - accuracy: 0.6074 - val_loss: 0.9889 - val_accuracy: 0.6593\n",
      "Epoch 29/50\n",
      "3537/3537 [==============================] - 4s 1ms/step - loss: 103.6880 - accuracy: 0.6169 - val_loss: 1.4871 - val_accuracy: 0.5752\n",
      "Epoch 30/50\n",
      "3537/3537 [==============================] - 4s 1ms/step - loss: 68.3258 - accuracy: 0.6132 - val_loss: 8.9883 - val_accuracy: 0.6595\n",
      "Epoch 31/50\n",
      "3537/3537 [==============================] - 4s 1ms/step - loss: 120.2150 - accuracy: 0.6012 - val_loss: 614.1523 - val_accuracy: 0.6594\n",
      "Epoch 32/50\n",
      "3537/3537 [==============================] - 5s 1ms/step - loss: 87.1104 - accuracy: 0.6270 - val_loss: 1.3111 - val_accuracy: 0.6593\n",
      "Epoch 33/50\n",
      "3537/3537 [==============================] - 5s 2ms/step - loss: 165.2766 - accuracy: 0.6164 - val_loss: 20.8448 - val_accuracy: 0.6200\n",
      "Epoch 34/50\n",
      "3537/3537 [==============================] - 5s 1ms/step - loss: 25.6776 - accuracy: 0.6198 - val_loss: 1.4207 - val_accuracy: 0.5386\n",
      "Epoch 35/50\n",
      "3537/3537 [==============================] - 4s 1ms/step - loss: 108.9088 - accuracy: 0.6177 - val_loss: 1.1043 - val_accuracy: 0.6585\n",
      "Epoch 36/50\n",
      "3537/3537 [==============================] - 4s 1ms/step - loss: 87.2892 - accuracy: 0.6069 - val_loss: 2.1121 - val_accuracy: 0.5323\n",
      "Epoch 37/50\n",
      "3537/3537 [==============================] - 4s 1ms/step - loss: 73.9404 - accuracy: 0.6080 - val_loss: 1.4728 - val_accuracy: 0.6217\n",
      "Epoch 38/50\n",
      "3537/3537 [==============================] - 5s 1ms/step - loss: 70.5950 - accuracy: 0.6099 - val_loss: 326.5340 - val_accuracy: 0.3290\n",
      "Epoch 39/50\n",
      "3537/3537 [==============================] - 6s 2ms/step - loss: 53.3579 - accuracy: 0.6085 - val_loss: 60.8286 - val_accuracy: 0.6593\n",
      "Epoch 40/50\n",
      "3537/3537 [==============================] - 9s 3ms/step - loss: 61.4179 - accuracy: 0.6157 - val_loss: 33.1519 - val_accuracy: 0.6182\n",
      "Epoch 41/50\n",
      "3537/3537 [==============================] - 7s 2ms/step - loss: 106.8965 - accuracy: 0.6142 - val_loss: 60.8302 - val_accuracy: 0.6595\n",
      "Epoch 42/50\n",
      "3537/3537 [==============================] - 6s 2ms/step - loss: 59.1925 - accuracy: 0.6270 - val_loss: 1.6617 - val_accuracy: 0.6575\n",
      "Epoch 43/50\n",
      "3537/3537 [==============================] - 6s 2ms/step - loss: 44.3047 - accuracy: 0.6293 - val_loss: 10.7454 - val_accuracy: 0.6247\n",
      "Epoch 44/50\n",
      "3537/3537 [==============================] - 7s 2ms/step - loss: 47.3803 - accuracy: 0.6170 - val_loss: 507.3570 - val_accuracy: 0.6593\n",
      "Epoch 45/50\n",
      "3537/3537 [==============================] - 5s 2ms/step - loss: 61.9119 - accuracy: 0.6223 - val_loss: 1.0960 - val_accuracy: 0.6602\n",
      "Epoch 46/50\n",
      "3537/3537 [==============================] - 5s 1ms/step - loss: 46.0416 - accuracy: 0.6147 - val_loss: 7.5427 - val_accuracy: 0.6598\n",
      "Epoch 47/50\n",
      "3537/3537 [==============================] - 5s 1ms/step - loss: 26.4949 - accuracy: 0.6353 - val_loss: 1.8286 - val_accuracy: 0.5329\n",
      "Epoch 48/50\n",
      "3537/3537 [==============================] - 6s 2ms/step - loss: 69.7313 - accuracy: 0.6260 - val_loss: 1.0746 - val_accuracy: 0.6600\n",
      "Epoch 49/50\n",
      "3537/3537 [==============================] - 6s 2ms/step - loss: 46.9171 - accuracy: 0.6284 - val_loss: 0.9715 - val_accuracy: 0.6605\n",
      "Epoch 50/50\n",
      "3537/3537 [==============================] - 6s 2ms/step - loss: 71.6227 - accuracy: 0.6283 - val_loss: 304.7586 - val_accuracy: 0.6871\n"
     ]
    }
   ],
   "source": [
    "history1 = model.fit(X_train, y_train, validation_data=(X_test, y_test),epochs = 50)"
   ]
  },
  {
   "cell_type": "code",
   "execution_count": 41,
   "metadata": {},
   "outputs": [
    {
     "data": {
      "image/png": "[encoded data removed]",
      "text/plain": [
       "<Figure size 640x480 with 1 Axes>"
      ]
     },
     "metadata": {},
     "output_type": "display_data"
    }
   ],
   "source": [
    "plt.plot(history1.history['accuracy'])\n",
    "plt.plot(history1.history['val_accuracy'])\n",
    "plt.title('model accuracy')\n",
    "plt.ylabel('accuracy')\n",
    "plt.xlabel('epoch')\n",
    "plt.legend(['train', 'val'], loc='upper left')\n",
    "plt.show()"
   ]
  },
  {
   "cell_type": "code",
   "execution_count": 42,
   "metadata": {},
   "outputs": [
    {
     "name": "stdout",
     "output_type": "stream",
     "text": [
      "Model: \"sequential_1\"\n",
      "_________________________________________________________________\n",
      " Layer (type)                Output Shape              Param #   \n",
      "=================================================================\n",
      " dense_3 (Dense)             (None, 8)                 40        \n",
      "                                                                 \n",
      " dense_4 (Dense)             (None, 16)                144       \n",
      "                                                                 \n",
      " dense_5 (Dense)             (None, 64)                1088      \n",
      "                                                                 \n",
      " dense_6 (Dense)             (None, 16)                1040      \n",
      "                                                                 \n",
      " dense_7 (Dense)             (None, 4)                 68        \n",
      "                                                                 \n",
      "=================================================================\n",
      "Total params: 2,380\n",
      "Trainable params: 2,380\n",
      "Non-trainable params: 0\n",
      "_________________________________________________________________\n"
     ]
    }
   ],
   "source": [
    "model2 = Sequential([\n",
    "    Dense(8, input_shape=(4,)),\n",
    "    Dense(16, activation='relu'),\n",
    "    Dense(64, activation='relu'),\n",
    "    Dense(16, activation='relu'),\n",
    "    Dense(4, activation='softmax')\n",
    "])\n",
    "model2.compile(optimizer='Adam', loss='sparse_categorical_crossentropy', metrics=['accuracy'])\n",
    "model2.summary()"
   ]
  },
  {
   "cell_type": "code",
   "execution_count": 43,
   "metadata": {},
   "outputs": [
    {
     "name": "stdout",
     "output_type": "stream",
     "text": [
      "Epoch 1/50\n",
      "3537/3537 [==============================] - 5s 1ms/step - loss: 42457.7695 - accuracy: 0.5305 - val_loss: 17955.5234 - val_accuracy: 0.6934\n",
      "Epoch 2/50\n",
      "3537/3537 [==============================] - 4s 1ms/step - loss: 6785.4609 - accuracy: 0.5840 - val_loss: 0.9137 - val_accuracy: 0.6952\n",
      "Epoch 3/50\n",
      "3537/3537 [==============================] - 4s 1ms/step - loss: 0.8433 - accuracy: 0.7175 - val_loss: 0.8107 - val_accuracy: 0.7197\n",
      "Epoch 4/50\n",
      "3537/3537 [==============================] - 4s 1ms/step - loss: 1.6425 - accuracy: 0.7228 - val_loss: 0.9181 - val_accuracy: 0.7204\n",
      "Epoch 5/50\n",
      "3537/3537 [==============================] - 4s 1ms/step - loss: 0.7926 - accuracy: 0.7226 - val_loss: 0.7880 - val_accuracy: 0.7224\n",
      "Epoch 6/50\n",
      "3537/3537 [==============================] - 4s 1ms/step - loss: 0.7870 - accuracy: 0.7229 - val_loss: 0.7812 - val_accuracy: 0.7237\n",
      "Epoch 7/50\n",
      "3537/3537 [==============================] - 4s 1ms/step - loss: 0.7803 - accuracy: 0.7260 - val_loss: 0.7780 - val_accuracy: 0.7312\n",
      "Epoch 8/50\n",
      "3537/3537 [==============================] - 4s 1ms/step - loss: 17.6324 - accuracy: 0.7272 - val_loss: 0.7761 - val_accuracy: 0.7246\n",
      "Epoch 9/50\n",
      "3537/3537 [==============================] - 4s 1ms/step - loss: 0.8089 - accuracy: 0.7249 - val_loss: 0.7764 - val_accuracy: 0.7306\n",
      "Epoch 10/50\n",
      "3537/3537 [==============================] - 4s 1ms/step - loss: 0.7758 - accuracy: 0.7287 - val_loss: 0.7733 - val_accuracy: 0.7239\n",
      "Epoch 11/50\n",
      "3537/3537 [==============================] - 4s 1ms/step - loss: 0.9067 - accuracy: 0.6757 - val_loss: 0.8102 - val_accuracy: 0.7173\n",
      "Epoch 12/50\n",
      "3537/3537 [==============================] - 4s 1ms/step - loss: 14.9943 - accuracy: 0.7118 - val_loss: 0.8425 - val_accuracy: 0.6975\n",
      "Epoch 13/50\n",
      "3537/3537 [==============================] - 4s 1ms/step - loss: 0.7882 - accuracy: 0.7241 - val_loss: 0.7817 - val_accuracy: 0.7302\n",
      "Epoch 14/50\n",
      "3537/3537 [==============================] - 4s 1ms/step - loss: 0.7811 - accuracy: 0.7269 - val_loss: 0.8002 - val_accuracy: 0.7231\n",
      "Epoch 15/50\n",
      "3537/3537 [==============================] - 4s 1ms/step - loss: 0.7836 - accuracy: 0.7263 - val_loss: 0.7799 - val_accuracy: 0.7236\n",
      "Epoch 16/50\n",
      "3537/3537 [==============================] - 4s 1ms/step - loss: 0.7802 - accuracy: 0.7274 - val_loss: 0.7791 - val_accuracy: 0.7242\n",
      "Epoch 17/50\n",
      "3537/3537 [==============================] - 4s 1ms/step - loss: 0.7811 - accuracy: 0.7268 - val_loss: 0.7744 - val_accuracy: 0.7257\n",
      "Epoch 18/50\n",
      "3537/3537 [==============================] - 4s 1ms/step - loss: 0.7894 - accuracy: 0.7241 - val_loss: 0.8085 - val_accuracy: 0.7234\n",
      "Epoch 19/50\n",
      "3537/3537 [==============================] - 4s 1ms/step - loss: 0.8998 - accuracy: 0.6691 - val_loss: 0.9158 - val_accuracy: 0.6593\n",
      "Epoch 20/50\n",
      "3537/3537 [==============================] - 4s 1ms/step - loss: 0.9200 - accuracy: 0.6596 - val_loss: 0.9158 - val_accuracy: 0.6593\n",
      "Epoch 21/50\n",
      "3537/3537 [==============================] - 4s 1ms/step - loss: 0.9149 - accuracy: 0.6596 - val_loss: 0.9158 - val_accuracy: 0.6593\n",
      "Epoch 22/50\n",
      "3537/3537 [==============================] - 4s 1ms/step - loss: 0.9149 - accuracy: 0.6596 - val_loss: 0.9159 - val_accuracy: 0.6593\n",
      "Epoch 23/50\n",
      "3537/3537 [==============================] - 4s 1ms/step - loss: 0.9149 - accuracy: 0.6596 - val_loss: 0.9158 - val_accuracy: 0.6593\n",
      "Epoch 24/50\n",
      "3537/3537 [==============================] - 5s 1ms/step - loss: 0.9149 - accuracy: 0.6596 - val_loss: 0.9158 - val_accuracy: 0.6593\n",
      "Epoch 25/50\n",
      "3537/3537 [==============================] - 5s 1ms/step - loss: 0.9149 - accuracy: 0.6596 - val_loss: 0.9158 - val_accuracy: 0.6593\n",
      "Epoch 26/50\n",
      "3537/3537 [==============================] - 5s 1ms/step - loss: 0.9149 - accuracy: 0.6596 - val_loss: 0.9159 - val_accuracy: 0.6593\n",
      "Epoch 27/50\n",
      "3537/3537 [==============================] - 5s 1ms/step - loss: 0.9149 - accuracy: 0.6596 - val_loss: 0.9159 - val_accuracy: 0.6593\n",
      "Epoch 28/50\n",
      "3537/3537 [==============================] - 5s 1ms/step - loss: 0.9149 - accuracy: 0.6596 - val_loss: 0.9158 - val_accuracy: 0.6593\n",
      "Epoch 29/50\n",
      "3537/3537 [==============================] - 5s 1ms/step - loss: 0.9149 - accuracy: 0.6596 - val_loss: 0.9158 - val_accuracy: 0.6593\n",
      "Epoch 30/50\n",
      "3537/3537 [==============================] - 5s 1ms/step - loss: 0.9149 - accuracy: 0.6596 - val_loss: 0.9159 - val_accuracy: 0.6593\n",
      "Epoch 31/50\n",
      "3537/3537 [==============================] - 5s 1ms/step - loss: 0.9149 - accuracy: 0.6596 - val_loss: 0.9159 - val_accuracy: 0.6593\n",
      "Epoch 32/50\n",
      "3537/3537 [==============================] - 5s 1ms/step - loss: 0.9149 - accuracy: 0.6596 - val_loss: 0.9158 - val_accuracy: 0.6593\n",
      "Epoch 33/50\n",
      "3537/3537 [==============================] - 5s 1ms/step - loss: 0.9149 - accuracy: 0.6596 - val_loss: 0.9158 - val_accuracy: 0.6593\n",
      "Epoch 34/50\n",
      "3537/3537 [==============================] - 5s 1ms/step - loss: 0.9149 - accuracy: 0.6596 - val_loss: 0.9159 - val_accuracy: 0.6593\n",
      "Epoch 35/50\n",
      "3537/3537 [==============================] - 5s 1ms/step - loss: 0.9149 - accuracy: 0.6596 - val_loss: 0.9158 - val_accuracy: 0.6593\n",
      "Epoch 36/50\n",
      "3537/3537 [==============================] - 5s 1ms/step - loss: 0.9149 - accuracy: 0.6596 - val_loss: 0.9158 - val_accuracy: 0.6593\n",
      "Epoch 37/50\n",
      "3537/3537 [==============================] - 5s 1ms/step - loss: 0.9149 - accuracy: 0.6596 - val_loss: 0.9158 - val_accuracy: 0.6593\n",
      "Epoch 38/50\n",
      "3537/3537 [==============================] - 5s 1ms/step - loss: 0.9149 - accuracy: 0.6596 - val_loss: 0.9160 - val_accuracy: 0.6593\n",
      "Epoch 39/50\n",
      "3537/3537 [==============================] - 5s 1ms/step - loss: 0.9149 - accuracy: 0.6596 - val_loss: 0.9160 - val_accuracy: 0.6593\n",
      "Epoch 40/50\n",
      "3537/3537 [==============================] - 5s 1ms/step - loss: 0.9149 - accuracy: 0.6596 - val_loss: 0.9158 - val_accuracy: 0.6593\n",
      "Epoch 41/50\n",
      "3537/3537 [==============================] - 5s 1ms/step - loss: 0.9149 - accuracy: 0.6596 - val_loss: 0.9158 - val_accuracy: 0.6593\n",
      "Epoch 42/50\n",
      "3537/3537 [==============================] - 5s 1ms/step - loss: 0.9149 - accuracy: 0.6596 - val_loss: 0.9158 - val_accuracy: 0.6593\n",
      "Epoch 43/50\n",
      "3537/3537 [==============================] - 5s 1ms/step - loss: 0.9149 - accuracy: 0.6596 - val_loss: 0.9158 - val_accuracy: 0.6593\n",
      "Epoch 44/50\n",
      "3537/3537 [==============================] - 5s 1ms/step - loss: 0.9149 - accuracy: 0.6596 - val_loss: 0.9159 - val_accuracy: 0.6593\n",
      "Epoch 45/50\n",
      "3537/3537 [==============================] - 5s 1ms/step - loss: 0.9149 - accuracy: 0.6596 - val_loss: 0.9160 - val_accuracy: 0.6593\n",
      "Epoch 46/50\n",
      "3537/3537 [==============================] - 5s 1ms/step - loss: 0.9149 - accuracy: 0.6596 - val_loss: 0.9158 - val_accuracy: 0.6593\n",
      "Epoch 47/50\n",
      "3537/3537 [==============================] - 5s 1ms/step - loss: 0.9149 - accuracy: 0.6596 - val_loss: 0.9158 - val_accuracy: 0.6593\n",
      "Epoch 48/50\n",
      "3537/3537 [==============================] - 5s 1ms/step - loss: 0.9149 - accuracy: 0.6596 - val_loss: 0.9159 - val_accuracy: 0.6593\n",
      "Epoch 49/50\n",
      "3537/3537 [==============================] - 5s 1ms/step - loss: 0.9149 - accuracy: 0.6596 - val_loss: 0.9158 - val_accuracy: 0.6593\n",
      "Epoch 50/50\n",
      "3537/3537 [==============================] - 5s 1ms/step - loss: 0.9149 - accuracy: 0.6596 - val_loss: 0.9158 - val_accuracy: 0.6593\n"
     ]
    }
   ],
   "source": [
    "history2 = model2.fit(X_train, y_train,validation_data=(X_test, y_test),epochs = 50)"
   ]
  },
  {
   "cell_type": "code",
   "execution_count": 44,
   "metadata": {},
   "outputs": [
    {
     "data": {
      "image/png": "[encoded data removed]",
      "text/plain": [
       "<Figure size 640x480 with 1 Axes>"
      ]
     },
     "metadata": {},
     "output_type": "display_data"
    }
   ],
   "source": [
    "plt.plot(history2.history['accuracy'])\n",
    "plt.plot(history2.history['val_accuracy'])\n",
    "plt.title('model accuracy')\n",
    "plt.ylabel('accuracy')\n",
    "plt.xlabel('epoch')\n",
    "plt.legend(['train', 'val'], loc='upper left')\n",
    "plt.show()"
   ]
  },
  {
   "cell_type": "code",
   "execution_count": 45,
   "metadata": {},
   "outputs": [],
   "source": [
    "model2.save('dlmodel.h5')"
   ]
  },
  {
   "cell_type": "code",
   "execution_count": null,
   "metadata": {},
   "outputs": [],
   "source": []
  }
 ],
 "metadata": {
  "kernelspec": {
   "display_name": "Python 3",
   "language": "python",
   "name": "python3"
  },
  "language_info": {
   "codemirror_mode": {
    "name": "ipython",
    "version": 3
   },
   "file_extension": ".py",
   "mimetype": "text/x-python",
   "name": "python",
   "nbconvert_exporter": "python",
   "pygments_lexer": "ipython3",
   "version": "3.10.10"
  },
  "orig_nbformat": 4
 },
 "nbformat": 4,
 "nbformat_minor": 2
}
